{
  "nbformat": 4,
  "nbformat_minor": 0,
  "metadata": {
    "colab": {
      "provenance": []
    },
    "kernelspec": {
      "name": "python3",
      "display_name": "Python 3"
    },
    "language_info": {
      "name": "python"
    }
  },
  "cells": [
    {
      "cell_type": "markdown",
      "source": [
        "Author Sachin Saigal\n",
        "Due date 10/9/23\n"
      ],
      "metadata": {
        "id": "Vj5pr87pdKRg"
      }
    },
    {
      "cell_type": "code",
      "source": [
        "from google.colab import drive\n",
        "drive.mount('/content/drive')"
      ],
      "metadata": {
        "id": "poQSaPxnrGnr",
        "colab": {
          "base_uri": "https://localhost:8080/"
        },
        "outputId": "399aa1a1-32b2-464f-9456-9a9ee1a94ce3"
      },
      "execution_count": null,
      "outputs": [
        {
          "output_type": "stream",
          "name": "stdout",
          "text": [
            "Mounted at /content/drive\n"
          ]
        }
      ]
    },
    {
      "cell_type": "code",
      "source": [
        "import sys\n",
        "file_name = '/content/drive/MyDrive/access.log'\n",
        "file = open(file_name)\n",
        "count = 0\n",
        "for line in file:\n",
        "  if count<20:\n",
        "    print(line)\n",
        "  words = line.split(\" \")\n",
        "  col = 0\n",
        "  for word in words:\n",
        "    if count<20:\n",
        "      print(len(words))\n",
        "      print (\"%s\\t%d%d\" % (word, count, col))\n",
        "      col = col + 1\n",
        "  count = count +1\n"
      ],
      "metadata": {
        "id": "CM_0nJ6RrKWa"
      },
      "execution_count": null,
      "outputs": []
    },
    {
      "cell_type": "code",
      "source": [
        "import sys\n",
        "file_name = '/content/drive/MyDrive/access.log'\n",
        "file = open(file_name)\n",
        "uniqueIds = {}\n",
        "for line in file:\n",
        "  words = line.split(\"-\")\n",
        "  if words[0] not in uniqueIds:\n",
        "    uniqueIds[words[0]] = 1\n",
        "  else:\n",
        "    x = uniqueIds[words[0]]\n",
        "    uniqueIds[words[0]] = x+1\n",
        "\n",
        "\n",
        "with open('/content/drive/MyDrive/userData.txt', 'w') as f:\n",
        "    f.write(str(len(uniqueIds)) + \"\\n\")\n",
        "    for key in uniqueIds:\n",
        "      x = key + \" -> \" + str(uniqueIds[key]) + \"\\n\"\n",
        "      f.write(x)\n",
        "    f.close()\n"
      ],
      "metadata": {
        "id": "709zyiymIPJ1"
      },
      "execution_count": null,
      "outputs": []
    },
    {
      "cell_type": "code",
      "source": [
        "import sys\n",
        "file_name = '/content/drive/MyDrive/access.log'\n",
        "file = open(file_name)\n",
        "uniqueIds = {}\n",
        "for line in file:\n",
        "  words = line.split(\" \")\n",
        "  if len(words) > 6:\n",
        "    l = len(words)-2\n",
        "    if words[l] not in uniqueIds:\n",
        "      uniqueIds[words[l]] = 1\n",
        "    else:\n",
        "      x = uniqueIds[words[l]]\n",
        "      uniqueIds[words[l]] = x+1\n",
        "\n",
        "\n",
        "with open('/content/drive/MyDrive/browserData2.txt', 'w') as f:\n",
        "    f.write(str(len(uniqueIds)) + \"\\n\")\n",
        "    for key in uniqueIds:\n",
        "      x = key + \" -> \" + str(uniqueIds[key]) + \"\\n\"\n",
        "      f.write(x)\n",
        "    f.close()"
      ],
      "metadata": {
        "id": "ptJm8oUVX38m"
      },
      "execution_count": null,
      "outputs": []
    },
    {
      "cell_type": "code",
      "source": [
        "import sys\n",
        "#find the to 5 most common work pages\n",
        "file_name = '/content/drive/MyDrive/access.log'\n",
        "file = open(file_name)\n",
        "uniqueIds = {}\n",
        "for line in file:\n",
        "  words = line.split(\" \")\n",
        "  if len(words) > 6:\n",
        "    if words[6] not in uniqueIds:\n",
        "      uniqueIds[words[6]] = 1\n",
        "    else:\n",
        "      x = uniqueIds[words[6]]\n",
        "      uniqueIds[words[6]] = x+1\n",
        "\n",
        "\n",
        "\n",
        "\n",
        "\n",
        "mostCommon = []\n",
        "count = 0\n",
        "for key in uniqueIds:\n",
        "  if (count < 100000):\n",
        "    mostCommon.append(uniqueIds[key])\n",
        "    count = count + 1\n",
        "mostCommon.sort(reverse = True)\n",
        "\n",
        "topFive = []\n",
        "topFive.append(mostCommon[0])\n",
        "topFive.append(mostCommon[1])\n",
        "topFive.append(mostCommon[2])\n",
        "topFive.append(mostCommon[3])\n",
        "topFive.append(mostCommon[4])\n",
        "\n",
        "\n",
        "with open('/content/drive/MyDrive/top5webPages.txt', 'w') as f:\n",
        "    f.write(str(topFive) + \"\\n\")\n",
        "    for key in uniqueIds:\n",
        "        if uniqueIds[key] == topFive[0]:\n",
        "          x = key + \" -> \" + str(uniqueIds[key]) + \"\\n\"\n",
        "          f.write(x)\n",
        "        if uniqueIds[key] == topFive[1]:\n",
        "          x = key + \" -> \" + str(uniqueIds[key]) + \"\\n\"\n",
        "          f.write(x)\n",
        "        if uniqueIds[key] == topFive[2]:\n",
        "          x = key + \" -> \" + str(uniqueIds[key]) + \"\\n\"\n",
        "          f.write(x)\n",
        "        if uniqueIds[key] == topFive[3]:\n",
        "          x = key + \" -> \" + str(uniqueIds[key]) + \"\\n\"\n",
        "          f.write(x)\n",
        "        if uniqueIds[key] == topFive[4]:\n",
        "          x = key + \" -> \" + str(uniqueIds[key]) + \"\\n\"\n",
        "          f.write(x)\n",
        "    f.close()\n",
        "\n"
      ],
      "metadata": {
        "id": "6PNFjWoB05Bg"
      },
      "execution_count": null,
      "outputs": []
    },
    {
      "cell_type": "code",
      "source": [],
      "metadata": {
        "id": "trY4GEIS5kDn"
      },
      "execution_count": null,
      "outputs": []
    },
    {
      "cell_type": "code",
      "source": [],
      "metadata": {
        "id": "epiRy3x3XUpM"
      },
      "execution_count": null,
      "outputs": []
    }
  ]
}