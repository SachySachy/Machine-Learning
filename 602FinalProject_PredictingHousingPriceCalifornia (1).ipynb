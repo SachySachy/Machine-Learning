{
  "cells": [
    {
      "cell_type": "code",
      "execution_count": null,
      "metadata": {
        "colab": {
          "base_uri": "https://localhost:8080/"
        },
        "id": "JnUjNw8HYq4V",
        "outputId": "17d42cc3-3ee8-4151-9e80-9dd5a8eee8ef"
      },
      "outputs": [
        {
          "output_type": "stream",
          "name": "stdout",
          "text": [
            "Mounted at /content/drive\n"
          ]
        }
      ],
      "source": [
        "from google.colab import drive\n",
        "drive.mount('/content/drive')"
      ]
    },
    {
      "cell_type": "code",
      "execution_count": null,
      "metadata": {
        "id": "221VvREDXoHv",
        "colab": {
          "base_uri": "https://localhost:8080/"
        },
        "outputId": "a8dde769-8e73-480d-e9d0-0b920d27c5a3"
      },
      "outputs": [
        {
          "output_type": "stream",
          "name": "stdout",
          "text": [
            "\u001b[2K     \u001b[90m━━━━━━━━━━━━━━━━━━━━━━━━━━━━━━━━━━━━━━━━\u001b[0m \u001b[32m10.2/10.2 MB\u001b[0m \u001b[31m27.1 MB/s\u001b[0m eta \u001b[36m0:00:00\u001b[0m\n",
            "\u001b[2K     \u001b[90m━━━━━━━━━━━━━━━━━━━━━━━━━━━━━━━━━━━━━━━━\u001b[0m \u001b[32m1.6/1.6 MB\u001b[0m \u001b[31m8.4 MB/s\u001b[0m eta \u001b[36m0:00:00\u001b[0m\n",
            "\u001b[2K     \u001b[90m━━━━━━━━━━━━━━━━━━━━━━━━━━━━━━━━━━━━━━━━\u001b[0m \u001b[32m221.2/221.2 kB\u001b[0m \u001b[31m2.0 MB/s\u001b[0m eta \u001b[36m0:00:00\u001b[0m\n",
            "\u001b[?25h"
          ]
        }
      ],
      "source": [
        "!pip install -q dash\n",
        "!pip install -q jupyter-dash\n",
        "!pip install -q dash-bootstrap-components\n",
        "!pip install -q fredapi"
      ]
    },
    {
      "cell_type": "code",
      "execution_count": null,
      "metadata": {
        "id": "IfX6vEWpZQGs"
      },
      "outputs": [],
      "source": [
        "import scipy as sp\n",
        "import seaborn as sns\n",
        "import requests\n",
        "import random\n",
        "import io\n",
        "import plotly.express as px\n",
        "import plotly.graph_objects as go\n",
        "from plotly.subplots import make_subplots\n",
        "import dask.dataframe as dd"
      ]
    },
    {
      "cell_type": "code",
      "execution_count": null,
      "metadata": {
        "id": "LEGxdZgckVIV"
      },
      "outputs": [],
      "source": [
        "from fredapi import Fred\n",
        "import pandas as pd\n",
        "from datetime import datetime, date, time, timedelta\n",
        "import time\n",
        "import numpy as np\n",
        "import re\n",
        "import pickle\n",
        "\n",
        "from sklearn.model_selection import train_test_split\n",
        "import matplotlib.pyplot as plt\n",
        "\n",
        "from xgboost import XGBRegressor\n",
        "from xgboost import XGBRFRegressor\n",
        "from sklearn.ensemble import RandomForestRegressor\n",
        "from sklearn.model_selection import GridSearchCV\n",
        "from xgboost import plot_importance\n",
        "\n",
        "from sklearn.metrics import mean_squared_error, mean_absolute_error, make_scorer, r2_score, mean_absolute_percentage_error\n",
        "from sklearn.linear_model import LinearRegression, Ridge, Lasso, BayesianRidge, ElasticNet\n",
        "\n",
        "import matplotlib.pyplot as plt"
      ]
    },
    {
      "cell_type": "code",
      "source": [
        "from jupyter_dash import JupyterDash\n",
        "from dash import Dash, html, dcc, Input, Output\n",
        "import dash_bootstrap_components as dbc\n",
        "from google.colab.output import eval_js\n",
        "import IPython"
      ],
      "metadata": {
        "id": "lp1svxpBKF_G"
      },
      "execution_count": null,
      "outputs": []
    },
    {
      "cell_type": "code",
      "execution_count": null,
      "metadata": {
        "colab": {
          "base_uri": "https://localhost:8080/"
        },
        "id": "OPcky1iSaY-E",
        "outputId": "1c58d1a8-7fae-44b9-cfe9-970b86ee33d2"
      },
      "outputs": [
        {
          "output_type": "stream",
          "name": "stdout",
          "text": [
            "Shape of data: (Delayed('int-6942cc72-0f5b-4b5f-bad9-52a9477b8d10'), 102)\n",
            "\n"
          ]
        }
      ],
      "source": [
        "raw_data = dd.read_table('/content/drive/MyDrive/602-project/housing_market_data_most_recent.tsv000',\n",
        "                         dtype={'adjusted_average_new_listings': 'float64',\n",
        "                                'average_new_listings': 'float64',\n",
        "                                'inventory': 'float64',\n",
        "                                'total_new_listings': 'float64'})\n",
        "print(f'Shape of data: {raw_data.shape}\\n')"
      ]
    },
    {
      "cell_type": "code",
      "execution_count": null,
      "metadata": {
        "colab": {
          "base_uri": "https://localhost:8080/",
          "height": 342
        },
        "id": "hhmV2abyPQ70",
        "outputId": "c6ffde4d-e277-4199-e604-8bfec5a8aefb"
      },
      "outputs": [
        {
          "output_type": "execute_result",
          "data": {
            "text/plain": [
              "   region_id  region_type_id          region_name region_type period_begin  \\\n",
              "0        224               5     Pinal County, AZ      county   2017-03-20   \n",
              "1        224               5     Pinal County, AZ      county   2017-01-02   \n",
              "2        224               5     Pinal County, AZ      county   2017-02-27   \n",
              "3        250               5  Faulkner County, AR      county   2017-03-20   \n",
              "4        250               5  Faulkner County, AR      county   2017-01-02   \n",
              "\n",
              "   period_end  duration  total_homes_sold  total_homes_sold_yoy  \\\n",
              "0  2017-03-26   1 weeks             172.0              0.005848   \n",
              "1  2017-03-26  12 weeks            1870.0              0.171679   \n",
              "2  2017-03-26   4 weeks             812.0              0.262830   \n",
              "3  2017-03-26   1 weeks              41.0              0.708333   \n",
              "4  2017-03-26  12 weeks             337.0              0.243542   \n",
              "\n",
              "   average_homes_sold  ...  average_adjustment_average_homes_sold  \\\n",
              "0               172.0  ...                                    NaN   \n",
              "1               155.0  ...                                    NaN   \n",
              "2               203.0  ...                                    NaN   \n",
              "3                41.0  ...                                    NaN   \n",
              "4                28.0  ...                                    NaN   \n",
              "\n",
              "   adjusted_average_homes_sold  average_adjustment_average_new_listings  \\\n",
              "0                        172.0                                      NaN   \n",
              "1                        155.0                                      NaN   \n",
              "2                        203.0                                      NaN   \n",
              "3                         41.0                                      NaN   \n",
              "4                         28.0                                      NaN   \n",
              "\n",
              "   adjusted_average_new_listings  average_adjustment_pending_sales  \\\n",
              "0                          246.0                               NaN   \n",
              "1                          219.0                               NaN   \n",
              "2                          240.0                               NaN   \n",
              "3                           38.0                               NaN   \n",
              "4                           38.0                               NaN   \n",
              "\n",
              "   adjusted_pending_sales  adjusted_average_homes_delisted_yoy  \\\n",
              "0                   163.0                            -0.312500   \n",
              "1                   124.0                            -0.228571   \n",
              "2                   148.0                            -0.257143   \n",
              "3                    24.0                             0.000000   \n",
              "4                    20.0                             0.000000   \n",
              "\n",
              "   adjusted_average_homes_sold_yoy  adjusted_average_new_listings_yoy  \\\n",
              "0                         0.005848                           0.205882   \n",
              "1                         0.165414                          -0.064103   \n",
              "2                         0.268750                           0.137441   \n",
              "3                         0.708333                           0.187500   \n",
              "4                         0.272727                          -0.025641   \n",
              "\n",
              "   adjusted_pending_sales_yoy  \n",
              "0                    0.314516  \n",
              "1                    0.180952  \n",
              "2                    0.193548  \n",
              "3                    0.000000  \n",
              "4                    0.176471  \n",
              "\n",
              "[5 rows x 102 columns]"
            ],
            "text/html": [
              "\n",
              "  <div id=\"df-d815968b-30fb-4a08-bfbe-68ba869ff277\" class=\"colab-df-container\">\n",
              "    <div>\n",
              "<style scoped>\n",
              "    .dataframe tbody tr th:only-of-type {\n",
              "        vertical-align: middle;\n",
              "    }\n",
              "\n",
              "    .dataframe tbody tr th {\n",
              "        vertical-align: top;\n",
              "    }\n",
              "\n",
              "    .dataframe thead th {\n",
              "        text-align: right;\n",
              "    }\n",
              "</style>\n",
              "<table border=\"1\" class=\"dataframe\">\n",
              "  <thead>\n",
              "    <tr style=\"text-align: right;\">\n",
              "      <th></th>\n",
              "      <th>region_id</th>\n",
              "      <th>region_type_id</th>\n",
              "      <th>region_name</th>\n",
              "      <th>region_type</th>\n",
              "      <th>period_begin</th>\n",
              "      <th>period_end</th>\n",
              "      <th>duration</th>\n",
              "      <th>total_homes_sold</th>\n",
              "      <th>total_homes_sold_yoy</th>\n",
              "      <th>average_homes_sold</th>\n",
              "      <th>...</th>\n",
              "      <th>average_adjustment_average_homes_sold</th>\n",
              "      <th>adjusted_average_homes_sold</th>\n",
              "      <th>average_adjustment_average_new_listings</th>\n",
              "      <th>adjusted_average_new_listings</th>\n",
              "      <th>average_adjustment_pending_sales</th>\n",
              "      <th>adjusted_pending_sales</th>\n",
              "      <th>adjusted_average_homes_delisted_yoy</th>\n",
              "      <th>adjusted_average_homes_sold_yoy</th>\n",
              "      <th>adjusted_average_new_listings_yoy</th>\n",
              "      <th>adjusted_pending_sales_yoy</th>\n",
              "    </tr>\n",
              "  </thead>\n",
              "  <tbody>\n",
              "    <tr>\n",
              "      <th>0</th>\n",
              "      <td>224</td>\n",
              "      <td>5</td>\n",
              "      <td>Pinal County, AZ</td>\n",
              "      <td>county</td>\n",
              "      <td>2017-03-20</td>\n",
              "      <td>2017-03-26</td>\n",
              "      <td>1 weeks</td>\n",
              "      <td>172.0</td>\n",
              "      <td>0.005848</td>\n",
              "      <td>172.0</td>\n",
              "      <td>...</td>\n",
              "      <td>NaN</td>\n",
              "      <td>172.0</td>\n",
              "      <td>NaN</td>\n",
              "      <td>246.0</td>\n",
              "      <td>NaN</td>\n",
              "      <td>163.0</td>\n",
              "      <td>-0.312500</td>\n",
              "      <td>0.005848</td>\n",
              "      <td>0.205882</td>\n",
              "      <td>0.314516</td>\n",
              "    </tr>\n",
              "    <tr>\n",
              "      <th>1</th>\n",
              "      <td>224</td>\n",
              "      <td>5</td>\n",
              "      <td>Pinal County, AZ</td>\n",
              "      <td>county</td>\n",
              "      <td>2017-01-02</td>\n",
              "      <td>2017-03-26</td>\n",
              "      <td>12 weeks</td>\n",
              "      <td>1870.0</td>\n",
              "      <td>0.171679</td>\n",
              "      <td>155.0</td>\n",
              "      <td>...</td>\n",
              "      <td>NaN</td>\n",
              "      <td>155.0</td>\n",
              "      <td>NaN</td>\n",
              "      <td>219.0</td>\n",
              "      <td>NaN</td>\n",
              "      <td>124.0</td>\n",
              "      <td>-0.228571</td>\n",
              "      <td>0.165414</td>\n",
              "      <td>-0.064103</td>\n",
              "      <td>0.180952</td>\n",
              "    </tr>\n",
              "    <tr>\n",
              "      <th>2</th>\n",
              "      <td>224</td>\n",
              "      <td>5</td>\n",
              "      <td>Pinal County, AZ</td>\n",
              "      <td>county</td>\n",
              "      <td>2017-02-27</td>\n",
              "      <td>2017-03-26</td>\n",
              "      <td>4 weeks</td>\n",
              "      <td>812.0</td>\n",
              "      <td>0.262830</td>\n",
              "      <td>203.0</td>\n",
              "      <td>...</td>\n",
              "      <td>NaN</td>\n",
              "      <td>203.0</td>\n",
              "      <td>NaN</td>\n",
              "      <td>240.0</td>\n",
              "      <td>NaN</td>\n",
              "      <td>148.0</td>\n",
              "      <td>-0.257143</td>\n",
              "      <td>0.268750</td>\n",
              "      <td>0.137441</td>\n",
              "      <td>0.193548</td>\n",
              "    </tr>\n",
              "    <tr>\n",
              "      <th>3</th>\n",
              "      <td>250</td>\n",
              "      <td>5</td>\n",
              "      <td>Faulkner County, AR</td>\n",
              "      <td>county</td>\n",
              "      <td>2017-03-20</td>\n",
              "      <td>2017-03-26</td>\n",
              "      <td>1 weeks</td>\n",
              "      <td>41.0</td>\n",
              "      <td>0.708333</td>\n",
              "      <td>41.0</td>\n",
              "      <td>...</td>\n",
              "      <td>NaN</td>\n",
              "      <td>41.0</td>\n",
              "      <td>NaN</td>\n",
              "      <td>38.0</td>\n",
              "      <td>NaN</td>\n",
              "      <td>24.0</td>\n",
              "      <td>0.000000</td>\n",
              "      <td>0.708333</td>\n",
              "      <td>0.187500</td>\n",
              "      <td>0.000000</td>\n",
              "    </tr>\n",
              "    <tr>\n",
              "      <th>4</th>\n",
              "      <td>250</td>\n",
              "      <td>5</td>\n",
              "      <td>Faulkner County, AR</td>\n",
              "      <td>county</td>\n",
              "      <td>2017-01-02</td>\n",
              "      <td>2017-03-26</td>\n",
              "      <td>12 weeks</td>\n",
              "      <td>337.0</td>\n",
              "      <td>0.243542</td>\n",
              "      <td>28.0</td>\n",
              "      <td>...</td>\n",
              "      <td>NaN</td>\n",
              "      <td>28.0</td>\n",
              "      <td>NaN</td>\n",
              "      <td>38.0</td>\n",
              "      <td>NaN</td>\n",
              "      <td>20.0</td>\n",
              "      <td>0.000000</td>\n",
              "      <td>0.272727</td>\n",
              "      <td>-0.025641</td>\n",
              "      <td>0.176471</td>\n",
              "    </tr>\n",
              "  </tbody>\n",
              "</table>\n",
              "<p>5 rows × 102 columns</p>\n",
              "</div>\n",
              "    <div class=\"colab-df-buttons\">\n",
              "\n",
              "  <div class=\"colab-df-container\">\n",
              "    <button class=\"colab-df-convert\" onclick=\"convertToInteractive('df-d815968b-30fb-4a08-bfbe-68ba869ff277')\"\n",
              "            title=\"Convert this dataframe to an interactive table.\"\n",
              "            style=\"display:none;\">\n",
              "\n",
              "  <svg xmlns=\"http://www.w3.org/2000/svg\" height=\"24px\" viewBox=\"0 -960 960 960\">\n",
              "    <path d=\"M120-120v-720h720v720H120Zm60-500h600v-160H180v160Zm220 220h160v-160H400v160Zm0 220h160v-160H400v160ZM180-400h160v-160H180v160Zm440 0h160v-160H620v160ZM180-180h160v-160H180v160Zm440 0h160v-160H620v160Z\"/>\n",
              "  </svg>\n",
              "    </button>\n",
              "\n",
              "  <style>\n",
              "    .colab-df-container {\n",
              "      display:flex;\n",
              "      gap: 12px;\n",
              "    }\n",
              "\n",
              "    .colab-df-convert {\n",
              "      background-color: #E8F0FE;\n",
              "      border: none;\n",
              "      border-radius: 50%;\n",
              "      cursor: pointer;\n",
              "      display: none;\n",
              "      fill: #1967D2;\n",
              "      height: 32px;\n",
              "      padding: 0 0 0 0;\n",
              "      width: 32px;\n",
              "    }\n",
              "\n",
              "    .colab-df-convert:hover {\n",
              "      background-color: #E2EBFA;\n",
              "      box-shadow: 0px 1px 2px rgba(60, 64, 67, 0.3), 0px 1px 3px 1px rgba(60, 64, 67, 0.15);\n",
              "      fill: #174EA6;\n",
              "    }\n",
              "\n",
              "    .colab-df-buttons div {\n",
              "      margin-bottom: 4px;\n",
              "    }\n",
              "\n",
              "    [theme=dark] .colab-df-convert {\n",
              "      background-color: #3B4455;\n",
              "      fill: #D2E3FC;\n",
              "    }\n",
              "\n",
              "    [theme=dark] .colab-df-convert:hover {\n",
              "      background-color: #434B5C;\n",
              "      box-shadow: 0px 1px 3px 1px rgba(0, 0, 0, 0.15);\n",
              "      filter: drop-shadow(0px 1px 2px rgba(0, 0, 0, 0.3));\n",
              "      fill: #FFFFFF;\n",
              "    }\n",
              "  </style>\n",
              "\n",
              "    <script>\n",
              "      const buttonEl =\n",
              "        document.querySelector('#df-d815968b-30fb-4a08-bfbe-68ba869ff277 button.colab-df-convert');\n",
              "      buttonEl.style.display =\n",
              "        google.colab.kernel.accessAllowed ? 'block' : 'none';\n",
              "\n",
              "      async function convertToInteractive(key) {\n",
              "        const element = document.querySelector('#df-d815968b-30fb-4a08-bfbe-68ba869ff277');\n",
              "        const dataTable =\n",
              "          await google.colab.kernel.invokeFunction('convertToInteractive',\n",
              "                                                    [key], {});\n",
              "        if (!dataTable) return;\n",
              "\n",
              "        const docLinkHtml = 'Like what you see? Visit the ' +\n",
              "          '<a target=\"_blank\" href=https://colab.research.google.com/notebooks/data_table.ipynb>data table notebook</a>'\n",
              "          + ' to learn more about interactive tables.';\n",
              "        element.innerHTML = '';\n",
              "        dataTable['output_type'] = 'display_data';\n",
              "        await google.colab.output.renderOutput(dataTable, element);\n",
              "        const docLink = document.createElement('div');\n",
              "        docLink.innerHTML = docLinkHtml;\n",
              "        element.appendChild(docLink);\n",
              "      }\n",
              "    </script>\n",
              "  </div>\n",
              "\n",
              "\n",
              "<div id=\"df-0f403459-1fbe-4629-93a4-efae78c945c9\">\n",
              "  <button class=\"colab-df-quickchart\" onclick=\"quickchart('df-0f403459-1fbe-4629-93a4-efae78c945c9')\"\n",
              "            title=\"Suggest charts\"\n",
              "            style=\"display:none;\">\n",
              "\n",
              "<svg xmlns=\"http://www.w3.org/2000/svg\" height=\"24px\"viewBox=\"0 0 24 24\"\n",
              "     width=\"24px\">\n",
              "    <g>\n",
              "        <path d=\"M19 3H5c-1.1 0-2 .9-2 2v14c0 1.1.9 2 2 2h14c1.1 0 2-.9 2-2V5c0-1.1-.9-2-2-2zM9 17H7v-7h2v7zm4 0h-2V7h2v10zm4 0h-2v-4h2v4z\"/>\n",
              "    </g>\n",
              "</svg>\n",
              "  </button>\n",
              "\n",
              "<style>\n",
              "  .colab-df-quickchart {\n",
              "      --bg-color: #E8F0FE;\n",
              "      --fill-color: #1967D2;\n",
              "      --hover-bg-color: #E2EBFA;\n",
              "      --hover-fill-color: #174EA6;\n",
              "      --disabled-fill-color: #AAA;\n",
              "      --disabled-bg-color: #DDD;\n",
              "  }\n",
              "\n",
              "  [theme=dark] .colab-df-quickchart {\n",
              "      --bg-color: #3B4455;\n",
              "      --fill-color: #D2E3FC;\n",
              "      --hover-bg-color: #434B5C;\n",
              "      --hover-fill-color: #FFFFFF;\n",
              "      --disabled-bg-color: #3B4455;\n",
              "      --disabled-fill-color: #666;\n",
              "  }\n",
              "\n",
              "  .colab-df-quickchart {\n",
              "    background-color: var(--bg-color);\n",
              "    border: none;\n",
              "    border-radius: 50%;\n",
              "    cursor: pointer;\n",
              "    display: none;\n",
              "    fill: var(--fill-color);\n",
              "    height: 32px;\n",
              "    padding: 0;\n",
              "    width: 32px;\n",
              "  }\n",
              "\n",
              "  .colab-df-quickchart:hover {\n",
              "    background-color: var(--hover-bg-color);\n",
              "    box-shadow: 0 1px 2px rgba(60, 64, 67, 0.3), 0 1px 3px 1px rgba(60, 64, 67, 0.15);\n",
              "    fill: var(--button-hover-fill-color);\n",
              "  }\n",
              "\n",
              "  .colab-df-quickchart-complete:disabled,\n",
              "  .colab-df-quickchart-complete:disabled:hover {\n",
              "    background-color: var(--disabled-bg-color);\n",
              "    fill: var(--disabled-fill-color);\n",
              "    box-shadow: none;\n",
              "  }\n",
              "\n",
              "  .colab-df-spinner {\n",
              "    border: 2px solid var(--fill-color);\n",
              "    border-color: transparent;\n",
              "    border-bottom-color: var(--fill-color);\n",
              "    animation:\n",
              "      spin 1s steps(1) infinite;\n",
              "  }\n",
              "\n",
              "  @keyframes spin {\n",
              "    0% {\n",
              "      border-color: transparent;\n",
              "      border-bottom-color: var(--fill-color);\n",
              "      border-left-color: var(--fill-color);\n",
              "    }\n",
              "    20% {\n",
              "      border-color: transparent;\n",
              "      border-left-color: var(--fill-color);\n",
              "      border-top-color: var(--fill-color);\n",
              "    }\n",
              "    30% {\n",
              "      border-color: transparent;\n",
              "      border-left-color: var(--fill-color);\n",
              "      border-top-color: var(--fill-color);\n",
              "      border-right-color: var(--fill-color);\n",
              "    }\n",
              "    40% {\n",
              "      border-color: transparent;\n",
              "      border-right-color: var(--fill-color);\n",
              "      border-top-color: var(--fill-color);\n",
              "    }\n",
              "    60% {\n",
              "      border-color: transparent;\n",
              "      border-right-color: var(--fill-color);\n",
              "    }\n",
              "    80% {\n",
              "      border-color: transparent;\n",
              "      border-right-color: var(--fill-color);\n",
              "      border-bottom-color: var(--fill-color);\n",
              "    }\n",
              "    90% {\n",
              "      border-color: transparent;\n",
              "      border-bottom-color: var(--fill-color);\n",
              "    }\n",
              "  }\n",
              "</style>\n",
              "\n",
              "  <script>\n",
              "    async function quickchart(key) {\n",
              "      const quickchartButtonEl =\n",
              "        document.querySelector('#' + key + ' button');\n",
              "      quickchartButtonEl.disabled = true;  // To prevent multiple clicks.\n",
              "      quickchartButtonEl.classList.add('colab-df-spinner');\n",
              "      try {\n",
              "        const charts = await google.colab.kernel.invokeFunction(\n",
              "            'suggestCharts', [key], {});\n",
              "      } catch (error) {\n",
              "        console.error('Error during call to suggestCharts:', error);\n",
              "      }\n",
              "      quickchartButtonEl.classList.remove('colab-df-spinner');\n",
              "      quickchartButtonEl.classList.add('colab-df-quickchart-complete');\n",
              "    }\n",
              "    (() => {\n",
              "      let quickchartButtonEl =\n",
              "        document.querySelector('#df-0f403459-1fbe-4629-93a4-efae78c945c9 button');\n",
              "      quickchartButtonEl.style.display =\n",
              "        google.colab.kernel.accessAllowed ? 'block' : 'none';\n",
              "    })();\n",
              "  </script>\n",
              "</div>\n",
              "    </div>\n",
              "  </div>\n"
            ]
          },
          "metadata": {},
          "execution_count": 7
        }
      ],
      "source": [
        "raw_data.head()"
      ]
    },
    {
      "cell_type": "code",
      "execution_count": null,
      "metadata": {
        "colab": {
          "base_uri": "https://localhost:8080/"
        },
        "id": "B2Ga2vnERjKF",
        "outputId": "70c33a36-f85c-4ee0-f22a-bb8b9daa7962"
      },
      "outputs": [
        {
          "output_type": "stream",
          "name": "stdout",
          "text": [
            "Shape of data: (351, 27)\n",
            "\n"
          ]
        }
      ],
      "source": [
        "url = r'https://www.redfin.com/stingray/api/gis-csv?al=1&market=socal&min_stories=1&num_homes=350&ord=redfin-recommended-asc&page_number=1&region_id=1669&region_type=6&sf=1,2,3,5,6,7&status=9&uipt=1,2,3,4,5,6,7,8&v=8'\n",
        "file = requests.get(url, headers={'User-Agent': 'Mozilla/5.0'}).content\n",
        "\n",
        "df = pd.read_csv(io.StringIO(file.decode('utf-8')))\n",
        "print(f'Shape of data: {df.shape}\\n')\n"
      ]
    },
    {
      "cell_type": "code",
      "execution_count": null,
      "metadata": {
        "colab": {
          "base_uri": "https://localhost:8080/",
          "height": 496
        },
        "id": "EIGp3_a9SJNj",
        "outputId": "864d6aa7-6100-4948-9b90-fe8c594e5a61"
      },
      "outputs": [
        {
          "output_type": "execute_result",
          "data": {
            "text/plain": [
              "     SALE TYPE  SOLD DATE              PROPERTY TYPE  \\\n",
              "1  MLS Listing        NaN  Single Family Residential   \n",
              "2  MLS Listing        NaN                Condo/Co-op   \n",
              "5  MLS Listing        NaN  Single Family Residential   \n",
              "6  MLS Listing        NaN  Single Family Residential   \n",
              "8  MLS Listing        NaN  Single Family Residential   \n",
              "\n",
              "                    ADDRESS           CITY STATE OR PROVINCE  \\\n",
              "1         1633 N Beverly Dr  Beverly Hills                CA   \n",
              "2        221 S GALE Dr #405  Beverly Hills                CA   \n",
              "5  1219 Beverly Estates Ter  Beverly Hills                CA   \n",
              "6            9736 Yoakum Dr  Beverly Hills                CA   \n",
              "8           1420 Laurel Way  Beverly Hills                CA   \n",
              "\n",
              "   ZIP OR POSTAL CODE       PRICE  BEDS  BATHS  ...  STATUS  \\\n",
              "1             90210.0   2899000.0   2.0    2.5  ...  Active   \n",
              "2             90211.0   1150000.0   2.0    2.0  ...  Active   \n",
              "5             90210.0   3599999.0   2.0    3.0  ...  Active   \n",
              "6             90210.0   1795000.0   3.0    3.0  ...  Active   \n",
              "8             90210.0  12900000.0   4.0    7.0  ...  Active   \n",
              "\n",
              "   NEXT OPEN HOUSE START TIME  NEXT OPEN HOUSE END TIME  \\\n",
              "1                         NaN                       NaN   \n",
              "2                         NaN                       NaN   \n",
              "5                         NaN                       NaN   \n",
              "6                         NaN                       NaN   \n",
              "8                         NaN                       NaN   \n",
              "\n",
              "   URL (SEE https://www.redfin.com/buy-a-home/comparative-market-analysis FOR INFO ON PRICING)  \\\n",
              "1  https://www.redfin.com/CA/Beverly-Hills/1633-N...                                             \n",
              "2  https://www.redfin.com/CA/Beverly-Hills/221-S-...                                             \n",
              "5  https://www.redfin.com/CA/Beverly-Hills/1219-B...                                             \n",
              "6  https://www.redfin.com/CA/Beverly-Hills/9736-Y...                                             \n",
              "8  https://www.redfin.com/CA/Beverly-Hills/1420-L...                                             \n",
              "\n",
              "   SOURCE        MLS#  FAVORITE INTERESTED   LATITUDE   LONGITUDE  \n",
              "1   CRMLS  SB23162677         N          Y  34.100374 -118.415783  \n",
              "2   CRMLS  SR23222132         N          Y  34.063581 -118.374388  \n",
              "5  TheMLS   23-334161         N          Y  34.093027 -118.428676  \n",
              "6  TheMLS   23-337711         N          Y  34.112432 -118.430754  \n",
              "8  TheMLS   23-337941         N          Y  34.097943 -118.417725  \n",
              "\n",
              "[5 rows x 27 columns]"
            ],
            "text/html": [
              "\n",
              "  <div id=\"df-66389d5d-26bc-492d-af51-edaafa0ecbe2\" class=\"colab-df-container\">\n",
              "    <div>\n",
              "<style scoped>\n",
              "    .dataframe tbody tr th:only-of-type {\n",
              "        vertical-align: middle;\n",
              "    }\n",
              "\n",
              "    .dataframe tbody tr th {\n",
              "        vertical-align: top;\n",
              "    }\n",
              "\n",
              "    .dataframe thead th {\n",
              "        text-align: right;\n",
              "    }\n",
              "</style>\n",
              "<table border=\"1\" class=\"dataframe\">\n",
              "  <thead>\n",
              "    <tr style=\"text-align: right;\">\n",
              "      <th></th>\n",
              "      <th>SALE TYPE</th>\n",
              "      <th>SOLD DATE</th>\n",
              "      <th>PROPERTY TYPE</th>\n",
              "      <th>ADDRESS</th>\n",
              "      <th>CITY</th>\n",
              "      <th>STATE OR PROVINCE</th>\n",
              "      <th>ZIP OR POSTAL CODE</th>\n",
              "      <th>PRICE</th>\n",
              "      <th>BEDS</th>\n",
              "      <th>BATHS</th>\n",
              "      <th>...</th>\n",
              "      <th>STATUS</th>\n",
              "      <th>NEXT OPEN HOUSE START TIME</th>\n",
              "      <th>NEXT OPEN HOUSE END TIME</th>\n",
              "      <th>URL (SEE https://www.redfin.com/buy-a-home/comparative-market-analysis FOR INFO ON PRICING)</th>\n",
              "      <th>SOURCE</th>\n",
              "      <th>MLS#</th>\n",
              "      <th>FAVORITE</th>\n",
              "      <th>INTERESTED</th>\n",
              "      <th>LATITUDE</th>\n",
              "      <th>LONGITUDE</th>\n",
              "    </tr>\n",
              "  </thead>\n",
              "  <tbody>\n",
              "    <tr>\n",
              "      <th>1</th>\n",
              "      <td>MLS Listing</td>\n",
              "      <td>NaN</td>\n",
              "      <td>Single Family Residential</td>\n",
              "      <td>1633 N Beverly Dr</td>\n",
              "      <td>Beverly Hills</td>\n",
              "      <td>CA</td>\n",
              "      <td>90210.0</td>\n",
              "      <td>2899000.0</td>\n",
              "      <td>2.0</td>\n",
              "      <td>2.5</td>\n",
              "      <td>...</td>\n",
              "      <td>Active</td>\n",
              "      <td>NaN</td>\n",
              "      <td>NaN</td>\n",
              "      <td>https://www.redfin.com/CA/Beverly-Hills/1633-N...</td>\n",
              "      <td>CRMLS</td>\n",
              "      <td>SB23162677</td>\n",
              "      <td>N</td>\n",
              "      <td>Y</td>\n",
              "      <td>34.100374</td>\n",
              "      <td>-118.415783</td>\n",
              "    </tr>\n",
              "    <tr>\n",
              "      <th>2</th>\n",
              "      <td>MLS Listing</td>\n",
              "      <td>NaN</td>\n",
              "      <td>Condo/Co-op</td>\n",
              "      <td>221 S GALE Dr #405</td>\n",
              "      <td>Beverly Hills</td>\n",
              "      <td>CA</td>\n",
              "      <td>90211.0</td>\n",
              "      <td>1150000.0</td>\n",
              "      <td>2.0</td>\n",
              "      <td>2.0</td>\n",
              "      <td>...</td>\n",
              "      <td>Active</td>\n",
              "      <td>NaN</td>\n",
              "      <td>NaN</td>\n",
              "      <td>https://www.redfin.com/CA/Beverly-Hills/221-S-...</td>\n",
              "      <td>CRMLS</td>\n",
              "      <td>SR23222132</td>\n",
              "      <td>N</td>\n",
              "      <td>Y</td>\n",
              "      <td>34.063581</td>\n",
              "      <td>-118.374388</td>\n",
              "    </tr>\n",
              "    <tr>\n",
              "      <th>5</th>\n",
              "      <td>MLS Listing</td>\n",
              "      <td>NaN</td>\n",
              "      <td>Single Family Residential</td>\n",
              "      <td>1219 Beverly Estates Ter</td>\n",
              "      <td>Beverly Hills</td>\n",
              "      <td>CA</td>\n",
              "      <td>90210.0</td>\n",
              "      <td>3599999.0</td>\n",
              "      <td>2.0</td>\n",
              "      <td>3.0</td>\n",
              "      <td>...</td>\n",
              "      <td>Active</td>\n",
              "      <td>NaN</td>\n",
              "      <td>NaN</td>\n",
              "      <td>https://www.redfin.com/CA/Beverly-Hills/1219-B...</td>\n",
              "      <td>TheMLS</td>\n",
              "      <td>23-334161</td>\n",
              "      <td>N</td>\n",
              "      <td>Y</td>\n",
              "      <td>34.093027</td>\n",
              "      <td>-118.428676</td>\n",
              "    </tr>\n",
              "    <tr>\n",
              "      <th>6</th>\n",
              "      <td>MLS Listing</td>\n",
              "      <td>NaN</td>\n",
              "      <td>Single Family Residential</td>\n",
              "      <td>9736 Yoakum Dr</td>\n",
              "      <td>Beverly Hills</td>\n",
              "      <td>CA</td>\n",
              "      <td>90210.0</td>\n",
              "      <td>1795000.0</td>\n",
              "      <td>3.0</td>\n",
              "      <td>3.0</td>\n",
              "      <td>...</td>\n",
              "      <td>Active</td>\n",
              "      <td>NaN</td>\n",
              "      <td>NaN</td>\n",
              "      <td>https://www.redfin.com/CA/Beverly-Hills/9736-Y...</td>\n",
              "      <td>TheMLS</td>\n",
              "      <td>23-337711</td>\n",
              "      <td>N</td>\n",
              "      <td>Y</td>\n",
              "      <td>34.112432</td>\n",
              "      <td>-118.430754</td>\n",
              "    </tr>\n",
              "    <tr>\n",
              "      <th>8</th>\n",
              "      <td>MLS Listing</td>\n",
              "      <td>NaN</td>\n",
              "      <td>Single Family Residential</td>\n",
              "      <td>1420 Laurel Way</td>\n",
              "      <td>Beverly Hills</td>\n",
              "      <td>CA</td>\n",
              "      <td>90210.0</td>\n",
              "      <td>12900000.0</td>\n",
              "      <td>4.0</td>\n",
              "      <td>7.0</td>\n",
              "      <td>...</td>\n",
              "      <td>Active</td>\n",
              "      <td>NaN</td>\n",
              "      <td>NaN</td>\n",
              "      <td>https://www.redfin.com/CA/Beverly-Hills/1420-L...</td>\n",
              "      <td>TheMLS</td>\n",
              "      <td>23-337941</td>\n",
              "      <td>N</td>\n",
              "      <td>Y</td>\n",
              "      <td>34.097943</td>\n",
              "      <td>-118.417725</td>\n",
              "    </tr>\n",
              "  </tbody>\n",
              "</table>\n",
              "<p>5 rows × 27 columns</p>\n",
              "</div>\n",
              "    <div class=\"colab-df-buttons\">\n",
              "\n",
              "  <div class=\"colab-df-container\">\n",
              "    <button class=\"colab-df-convert\" onclick=\"convertToInteractive('df-66389d5d-26bc-492d-af51-edaafa0ecbe2')\"\n",
              "            title=\"Convert this dataframe to an interactive table.\"\n",
              "            style=\"display:none;\">\n",
              "\n",
              "  <svg xmlns=\"http://www.w3.org/2000/svg\" height=\"24px\" viewBox=\"0 -960 960 960\">\n",
              "    <path d=\"M120-120v-720h720v720H120Zm60-500h600v-160H180v160Zm220 220h160v-160H400v160Zm0 220h160v-160H400v160ZM180-400h160v-160H180v160Zm440 0h160v-160H620v160ZM180-180h160v-160H180v160Zm440 0h160v-160H620v160Z\"/>\n",
              "  </svg>\n",
              "    </button>\n",
              "\n",
              "  <style>\n",
              "    .colab-df-container {\n",
              "      display:flex;\n",
              "      gap: 12px;\n",
              "    }\n",
              "\n",
              "    .colab-df-convert {\n",
              "      background-color: #E8F0FE;\n",
              "      border: none;\n",
              "      border-radius: 50%;\n",
              "      cursor: pointer;\n",
              "      display: none;\n",
              "      fill: #1967D2;\n",
              "      height: 32px;\n",
              "      padding: 0 0 0 0;\n",
              "      width: 32px;\n",
              "    }\n",
              "\n",
              "    .colab-df-convert:hover {\n",
              "      background-color: #E2EBFA;\n",
              "      box-shadow: 0px 1px 2px rgba(60, 64, 67, 0.3), 0px 1px 3px 1px rgba(60, 64, 67, 0.15);\n",
              "      fill: #174EA6;\n",
              "    }\n",
              "\n",
              "    .colab-df-buttons div {\n",
              "      margin-bottom: 4px;\n",
              "    }\n",
              "\n",
              "    [theme=dark] .colab-df-convert {\n",
              "      background-color: #3B4455;\n",
              "      fill: #D2E3FC;\n",
              "    }\n",
              "\n",
              "    [theme=dark] .colab-df-convert:hover {\n",
              "      background-color: #434B5C;\n",
              "      box-shadow: 0px 1px 3px 1px rgba(0, 0, 0, 0.15);\n",
              "      filter: drop-shadow(0px 1px 2px rgba(0, 0, 0, 0.3));\n",
              "      fill: #FFFFFF;\n",
              "    }\n",
              "  </style>\n",
              "\n",
              "    <script>\n",
              "      const buttonEl =\n",
              "        document.querySelector('#df-66389d5d-26bc-492d-af51-edaafa0ecbe2 button.colab-df-convert');\n",
              "      buttonEl.style.display =\n",
              "        google.colab.kernel.accessAllowed ? 'block' : 'none';\n",
              "\n",
              "      async function convertToInteractive(key) {\n",
              "        const element = document.querySelector('#df-66389d5d-26bc-492d-af51-edaafa0ecbe2');\n",
              "        const dataTable =\n",
              "          await google.colab.kernel.invokeFunction('convertToInteractive',\n",
              "                                                    [key], {});\n",
              "        if (!dataTable) return;\n",
              "\n",
              "        const docLinkHtml = 'Like what you see? Visit the ' +\n",
              "          '<a target=\"_blank\" href=https://colab.research.google.com/notebooks/data_table.ipynb>data table notebook</a>'\n",
              "          + ' to learn more about interactive tables.';\n",
              "        element.innerHTML = '';\n",
              "        dataTable['output_type'] = 'display_data';\n",
              "        await google.colab.output.renderOutput(dataTable, element);\n",
              "        const docLink = document.createElement('div');\n",
              "        docLink.innerHTML = docLinkHtml;\n",
              "        element.appendChild(docLink);\n",
              "      }\n",
              "    </script>\n",
              "  </div>\n",
              "\n",
              "\n",
              "<div id=\"df-0bd88d84-b9e8-4902-a181-42140c96734f\">\n",
              "  <button class=\"colab-df-quickchart\" onclick=\"quickchart('df-0bd88d84-b9e8-4902-a181-42140c96734f')\"\n",
              "            title=\"Suggest charts\"\n",
              "            style=\"display:none;\">\n",
              "\n",
              "<svg xmlns=\"http://www.w3.org/2000/svg\" height=\"24px\"viewBox=\"0 0 24 24\"\n",
              "     width=\"24px\">\n",
              "    <g>\n",
              "        <path d=\"M19 3H5c-1.1 0-2 .9-2 2v14c0 1.1.9 2 2 2h14c1.1 0 2-.9 2-2V5c0-1.1-.9-2-2-2zM9 17H7v-7h2v7zm4 0h-2V7h2v10zm4 0h-2v-4h2v4z\"/>\n",
              "    </g>\n",
              "</svg>\n",
              "  </button>\n",
              "\n",
              "<style>\n",
              "  .colab-df-quickchart {\n",
              "      --bg-color: #E8F0FE;\n",
              "      --fill-color: #1967D2;\n",
              "      --hover-bg-color: #E2EBFA;\n",
              "      --hover-fill-color: #174EA6;\n",
              "      --disabled-fill-color: #AAA;\n",
              "      --disabled-bg-color: #DDD;\n",
              "  }\n",
              "\n",
              "  [theme=dark] .colab-df-quickchart {\n",
              "      --bg-color: #3B4455;\n",
              "      --fill-color: #D2E3FC;\n",
              "      --hover-bg-color: #434B5C;\n",
              "      --hover-fill-color: #FFFFFF;\n",
              "      --disabled-bg-color: #3B4455;\n",
              "      --disabled-fill-color: #666;\n",
              "  }\n",
              "\n",
              "  .colab-df-quickchart {\n",
              "    background-color: var(--bg-color);\n",
              "    border: none;\n",
              "    border-radius: 50%;\n",
              "    cursor: pointer;\n",
              "    display: none;\n",
              "    fill: var(--fill-color);\n",
              "    height: 32px;\n",
              "    padding: 0;\n",
              "    width: 32px;\n",
              "  }\n",
              "\n",
              "  .colab-df-quickchart:hover {\n",
              "    background-color: var(--hover-bg-color);\n",
              "    box-shadow: 0 1px 2px rgba(60, 64, 67, 0.3), 0 1px 3px 1px rgba(60, 64, 67, 0.15);\n",
              "    fill: var(--button-hover-fill-color);\n",
              "  }\n",
              "\n",
              "  .colab-df-quickchart-complete:disabled,\n",
              "  .colab-df-quickchart-complete:disabled:hover {\n",
              "    background-color: var(--disabled-bg-color);\n",
              "    fill: var(--disabled-fill-color);\n",
              "    box-shadow: none;\n",
              "  }\n",
              "\n",
              "  .colab-df-spinner {\n",
              "    border: 2px solid var(--fill-color);\n",
              "    border-color: transparent;\n",
              "    border-bottom-color: var(--fill-color);\n",
              "    animation:\n",
              "      spin 1s steps(1) infinite;\n",
              "  }\n",
              "\n",
              "  @keyframes spin {\n",
              "    0% {\n",
              "      border-color: transparent;\n",
              "      border-bottom-color: var(--fill-color);\n",
              "      border-left-color: var(--fill-color);\n",
              "    }\n",
              "    20% {\n",
              "      border-color: transparent;\n",
              "      border-left-color: var(--fill-color);\n",
              "      border-top-color: var(--fill-color);\n",
              "    }\n",
              "    30% {\n",
              "      border-color: transparent;\n",
              "      border-left-color: var(--fill-color);\n",
              "      border-top-color: var(--fill-color);\n",
              "      border-right-color: var(--fill-color);\n",
              "    }\n",
              "    40% {\n",
              "      border-color: transparent;\n",
              "      border-right-color: var(--fill-color);\n",
              "      border-top-color: var(--fill-color);\n",
              "    }\n",
              "    60% {\n",
              "      border-color: transparent;\n",
              "      border-right-color: var(--fill-color);\n",
              "    }\n",
              "    80% {\n",
              "      border-color: transparent;\n",
              "      border-right-color: var(--fill-color);\n",
              "      border-bottom-color: var(--fill-color);\n",
              "    }\n",
              "    90% {\n",
              "      border-color: transparent;\n",
              "      border-bottom-color: var(--fill-color);\n",
              "    }\n",
              "  }\n",
              "</style>\n",
              "\n",
              "  <script>\n",
              "    async function quickchart(key) {\n",
              "      const quickchartButtonEl =\n",
              "        document.querySelector('#' + key + ' button');\n",
              "      quickchartButtonEl.disabled = true;  // To prevent multiple clicks.\n",
              "      quickchartButtonEl.classList.add('colab-df-spinner');\n",
              "      try {\n",
              "        const charts = await google.colab.kernel.invokeFunction(\n",
              "            'suggestCharts', [key], {});\n",
              "      } catch (error) {\n",
              "        console.error('Error during call to suggestCharts:', error);\n",
              "      }\n",
              "      quickchartButtonEl.classList.remove('colab-df-spinner');\n",
              "      quickchartButtonEl.classList.add('colab-df-quickchart-complete');\n",
              "    }\n",
              "    (() => {\n",
              "      let quickchartButtonEl =\n",
              "        document.querySelector('#df-0bd88d84-b9e8-4902-a181-42140c96734f button');\n",
              "      quickchartButtonEl.style.display =\n",
              "        google.colab.kernel.accessAllowed ? 'block' : 'none';\n",
              "    })();\n",
              "  </script>\n",
              "</div>\n",
              "    </div>\n",
              "  </div>\n"
            ]
          },
          "metadata": {},
          "execution_count": 25
        }
      ],
      "source": [
        "region_df = df.copy()\n",
        "region_df.drop(region_df[region_df['CITY'] != 'Beverly Hills'].index, inplace=True)\n",
        "\n",
        "region_df.head()"
      ]
    },
    {
      "cell_type": "code",
      "source": [
        "region_df.groupby(['CITY']).plot.scatter(y='BEDS', x='BATHS', c='DarkBlue')"
      ],
      "metadata": {
        "colab": {
          "base_uri": "https://localhost:8080/",
          "height": 501
        },
        "id": "A7l_bgtToOtY",
        "outputId": "4fed309c-44fc-4c93-d4e4-26bb25f055d3"
      },
      "execution_count": null,
      "outputs": [
        {
          "output_type": "execute_result",
          "data": {
            "text/plain": [
              "CITY\n",
              "Beverly Hills    Axes(0.125,0.11;0.775x0.77)\n",
              "dtype: object"
            ]
          },
          "metadata": {},
          "execution_count": 26
        },
        {
          "output_type": "display_data",
          "data": {
            "text/plain": [
              "<Figure size 640x480 with 1 Axes>"
            ],
            "image/png": "[encoded data removed]"
          },
          "metadata": {}
        }
      ]
    },
    {
      "cell_type": "code",
      "source": [
        "area_df = df.copy()\n",
        "area_df.groupby(['CITY']).plot.scatter(y='BEDS', x='BATHS', c='DarkBlue')"
      ],
      "metadata": {
        "colab": {
          "base_uri": "https://localhost:8080/",
          "height": 1000
        },
        "id": "NGAfvyFVpsmY",
        "outputId": "627bf68d-9e31-41a9-bbc3-8a4ff11758fe"
      },
      "execution_count": null,
      "outputs": [
        {
          "output_type": "execute_result",
          "data": {
            "text/plain": [
              "CITY\n",
              "Beverly Hills                Axes(0.125,0.11;0.775x0.77)\n",
              "Beverly Hills Post Office    Axes(0.125,0.11;0.775x0.77)\n",
              "Hollywood Hills              Axes(0.125,0.11;0.775x0.77)\n",
              "Los Angeles                  Axes(0.125,0.11;0.775x0.77)\n",
              "Studio City                  Axes(0.125,0.11;0.775x0.77)\n",
              "West Hollywood               Axes(0.125,0.11;0.775x0.77)\n",
              "dtype: object"
            ]
          },
          "metadata": {},
          "execution_count": 27
        },
        {
          "output_type": "display_data",
          "data": {
            "text/plain": [
              "<Figure size 640x480 with 1 Axes>"
            ],
            "image/png": "[encoded data removed]"
          },
          "metadata": {}
        },
        {
          "output_type": "display_data",
          "data": {
            "text/plain": [
              "<Figure size 640x480 with 1 Axes>"
            ],
            "image/png": "[encoded data removed]"
          },
          "metadata": {}
        },
        {
          "output_type": "display_data",
          "data": {
            "text/plain": [
              "<Figure size 640x480 with 1 Axes>"
            ],
            "image/png": "[encoded data removed]"
          },
          "metadata": {}
        },
        {
          "output_type": "display_data",
          "data": {
            "text/plain": [
              "<Figure size 640x480 with 1 Axes>"
            ],
            "image/png": "[encoded data removed]"
          },
          "metadata": {}
        },
        {
          "output_type": "display_data",
          "data": {
            "text/plain": [
              "<Figure size 640x480 with 1 Axes>"
            ],
            "image/png": "[encoded data removed]"
          },
          "metadata": {}
        },
        {
          "output_type": "display_data",
          "data": {
            "text/plain": [
              "<Figure size 640x480 with 1 Axes>"
            ],
            "image/png": "[encoded data removed]"
          },
          "metadata": {}
        }
      ]
    },
    {
      "cell_type": "code",
      "source": [
        "region_df.groupby(['CITY']).plot.scatter(y='PRICE', x='ZIP OR POSTAL CODE', c='DarkBlue')"
      ],
      "metadata": {
        "colab": {
          "base_uri": "https://localhost:8080/",
          "height": 517
        },
        "id": "BMhHEI5iqCWT",
        "outputId": "97c6212c-fa41-48f7-a2e7-d387502e9366"
      },
      "execution_count": null,
      "outputs": [
        {
          "output_type": "execute_result",
          "data": {
            "text/plain": [
              "CITY\n",
              "Beverly Hills    Axes(0.125,0.11;0.775x0.77)\n",
              "dtype: object"
            ]
          },
          "metadata": {},
          "execution_count": 47
        },
        {
          "output_type": "display_data",
          "data": {
            "text/plain": [
              "<Figure size 640x480 with 1 Axes>"
            ],
            "image/png": "[encoded data removed]"
          },
          "metadata": {}
        }
      ]
    },
    {
      "cell_type": "code",
      "source": [
        "region_df.dropna(subset = ['BEDS', 'BATHS'], inplace=True)\n",
        "\n",
        "print(region_df)\n",
        "#region_df.groupby(['CITY']).plot.scatter(y='PRICE', x='BEDS', c='DarkBlue')"
      ],
      "metadata": {
        "colab": {
          "base_uri": "https://localhost:8080/"
        },
        "id": "HbISD_Baqn4q",
        "outputId": "10aa4e9b-d472-489e-963a-e106ff291a94"
      },
      "execution_count": null,
      "outputs": [
        {
          "output_type": "stream",
          "name": "stdout",
          "text": [
            "       SALE TYPE  SOLD DATE              PROPERTY TYPE  \\\n",
            "1    MLS Listing        NaN  Single Family Residential   \n",
            "2    MLS Listing        NaN                Condo/Co-op   \n",
            "5    MLS Listing        NaN  Single Family Residential   \n",
            "6    MLS Listing        NaN  Single Family Residential   \n",
            "8    MLS Listing        NaN  Single Family Residential   \n",
            "..           ...        ...                        ...   \n",
            "342  MLS Listing        NaN  Single Family Residential   \n",
            "343  MLS Listing        NaN  Single Family Residential   \n",
            "345  MLS Listing        NaN  Single Family Residential   \n",
            "346  MLS Listing        NaN  Single Family Residential   \n",
            "347  MLS Listing        NaN                Condo/Co-op   \n",
            "\n",
            "                      ADDRESS           CITY STATE OR PROVINCE  \\\n",
            "1           1633 N Beverly Dr  Beverly Hills                CA   \n",
            "2          221 S GALE Dr #405  Beverly Hills                CA   \n",
            "5    1219 Beverly Estates Ter  Beverly Hills                CA   \n",
            "6              9736 Yoakum Dr  Beverly Hills                CA   \n",
            "8             1420 Laurel Way  Beverly Hills                CA   \n",
            "..                        ...            ...               ...   \n",
            "342           801 N Sierra Dr  Beverly Hills                CA   \n",
            "343            12063 Crest Ct  Beverly Hills                CA   \n",
            "345       2807 Deep Canyon Dr  Beverly Hills                CA   \n",
            "346          525 N Rexford Dr  Beverly Hills                CA   \n",
            "347    411 N Oakhurst Dr #102  Beverly Hills                CA   \n",
            "\n",
            "     ZIP OR POSTAL CODE       PRICE  BEDS  BATHS  ...  STATUS  \\\n",
            "1               90210.0   2899000.0   2.0    2.5  ...  Active   \n",
            "2               90211.0   1150000.0   2.0    2.0  ...  Active   \n",
            "5               90210.0   3599999.0   2.0    3.0  ...  Active   \n",
            "6               90210.0   1795000.0   3.0    3.0  ...  Active   \n",
            "8               90210.0  12900000.0   4.0    7.0  ...  Active   \n",
            "..                  ...         ...   ...    ...  ...     ...   \n",
            "342             90210.0  14950000.0   6.0    8.0  ...  Active   \n",
            "343             90210.0  11960000.0   6.0    6.5  ...  Active   \n",
            "345             90210.0   5999000.0   5.0    7.0  ...  Active   \n",
            "346             90210.0   8448000.0   6.0    5.5  ...  Active   \n",
            "347             90210.0   1799000.0   3.0    2.5  ...  Active   \n",
            "\n",
            "     NEXT OPEN HOUSE START TIME   NEXT OPEN HOUSE END TIME  \\\n",
            "1                           NaN                        NaN   \n",
            "2                           NaN                        NaN   \n",
            "5                           NaN                        NaN   \n",
            "6                           NaN                        NaN   \n",
            "8                           NaN                        NaN   \n",
            "..                          ...                        ...   \n",
            "342                         NaN                        NaN   \n",
            "343                         NaN                        NaN   \n",
            "345                         NaN                        NaN   \n",
            "346   December-10-2023 01:00 PM  December-10-2023 04:00 PM   \n",
            "347                         NaN                        NaN   \n",
            "\n",
            "     URL (SEE https://www.redfin.com/buy-a-home/comparative-market-analysis FOR INFO ON PRICING)  \\\n",
            "1    https://www.redfin.com/CA/Beverly-Hills/1633-N...                                             \n",
            "2    https://www.redfin.com/CA/Beverly-Hills/221-S-...                                             \n",
            "5    https://www.redfin.com/CA/Beverly-Hills/1219-B...                                             \n",
            "6    https://www.redfin.com/CA/Beverly-Hills/9736-Y...                                             \n",
            "8    https://www.redfin.com/CA/Beverly-Hills/1420-L...                                             \n",
            "..                                                 ...                                             \n",
            "342  https://www.redfin.com/CA/Beverly-Hills/801-N-...                                             \n",
            "343  https://www.redfin.com/CA/Beverly-Hills/12063-...                                             \n",
            "345  https://www.redfin.com/CA/Beverly-Hills/2807-D...                                             \n",
            "346  https://www.redfin.com/CA/Beverly-Hills/525-N-...                                             \n",
            "347  https://www.redfin.com/CA/Beverly-Hills/411-N-...                                             \n",
            "\n",
            "     SOURCE        MLS#  FAVORITE INTERESTED   LATITUDE   LONGITUDE  \n",
            "1     CRMLS  SB23162677         N          Y  34.100374 -118.415783  \n",
            "2     CRMLS  SR23222132         N          Y  34.063581 -118.374388  \n",
            "5    TheMLS   23-334161         N          Y  34.093027 -118.428676  \n",
            "6    TheMLS   23-337711         N          Y  34.112432 -118.430754  \n",
            "8    TheMLS   23-337941         N          Y  34.097943 -118.417725  \n",
            "..      ...         ...       ...        ...        ...         ...  \n",
            "342  TheMLS   23-257759         N          Y  34.089488 -118.394803  \n",
            "343  TheMLS   23-259275         N          Y  34.125274 -118.401208  \n",
            "345  TheMLS   23-255781         N          Y  34.123740 -118.431781  \n",
            "346  TheMLS   23-249981         N          Y  34.076056 -118.402985  \n",
            "347   CRMLS  OC23053610         N          Y  34.076057 -118.391407  \n",
            "\n",
            "[231 rows x 27 columns]\n"
          ]
        }
      ]
    },
    {
      "cell_type": "code",
      "source": [
        "print(region_df)"
      ],
      "metadata": {
        "colab": {
          "base_uri": "https://localhost:8080/"
        },
        "id": "VJYGhwzzrn2n",
        "outputId": "48ac0c97-8c5f-4082-a532-acfea3e82323"
      },
      "execution_count": null,
      "outputs": [
        {
          "output_type": "stream",
          "name": "stdout",
          "text": [
            "None\n"
          ]
        }
      ]
    },
    {
      "cell_type": "code",
      "source": [
        "from sklearn.linear_model import LinearRegression\n",
        "\n",
        "x1 = []\n",
        "y1 = []\n",
        "z1 = []\n",
        "bed_x = region_df['BEDS']\n",
        "value_y = region_df['PRICE']\n",
        "length = len(bed_x)\n",
        "length1 = len(value_y)\n",
        "for z in range(length1):\n",
        "\n",
        "\n",
        "bed_x = region_df['BEDS']\n",
        "for x in bed_x:\n",
        "\n",
        "    x1.append(x)\n",
        "\n",
        "value_y = region_df['PRICE']\n",
        "z = 0\n",
        "for y in value_y:\n",
        "  if z < 348:\n",
        "    y1.append(y)\n",
        "    z = z +1\n",
        "print(x1)\n",
        "print(y1)"
      ],
      "metadata": {
        "colab": {
          "base_uri": "https://localhost:8080/",
          "height": 512
        },
        "id": "vZ4-vyKTs5vf",
        "outputId": "ba7a74d2-0ffe-4576-96e9-527712d51985"
      },
      "execution_count": null,
      "outputs": [
        {
          "output_type": "error",
          "ename": "KeyError",
          "evalue": "ignored",
          "traceback": [
            "\u001b[0;31m---------------------------------------------------------------------------\u001b[0m",
            "\u001b[0;31mKeyError\u001b[0m                                  Traceback (most recent call last)",
            "\u001b[0;32m/usr/local/lib/python3.10/dist-packages/pandas/core/indexes/base.py\u001b[0m in \u001b[0;36mget_loc\u001b[0;34m(self, key, method, tolerance)\u001b[0m\n\u001b[1;32m   3801\u001b[0m             \u001b[0;32mtry\u001b[0m\u001b[0;34m:\u001b[0m\u001b[0;34m\u001b[0m\u001b[0;34m\u001b[0m\u001b[0m\n\u001b[0;32m-> 3802\u001b[0;31m                 \u001b[0;32mreturn\u001b[0m \u001b[0mself\u001b[0m\u001b[0;34m.\u001b[0m\u001b[0m_engine\u001b[0m\u001b[0;34m.\u001b[0m\u001b[0mget_loc\u001b[0m\u001b[0;34m(\u001b[0m\u001b[0mcasted_key\u001b[0m\u001b[0;34m)\u001b[0m\u001b[0;34m\u001b[0m\u001b[0;34m\u001b[0m\u001b[0m\n\u001b[0m\u001b[1;32m   3803\u001b[0m             \u001b[0;32mexcept\u001b[0m \u001b[0mKeyError\u001b[0m \u001b[0;32mas\u001b[0m \u001b[0merr\u001b[0m\u001b[0;34m:\u001b[0m\u001b[0;34m\u001b[0m\u001b[0;34m\u001b[0m\u001b[0m\n",
            "\u001b[0;32m/usr/local/lib/python3.10/dist-packages/pandas/_libs/index.pyx\u001b[0m in \u001b[0;36mpandas._libs.index.IndexEngine.get_loc\u001b[0;34m()\u001b[0m\n",
            "\u001b[0;32m/usr/local/lib/python3.10/dist-packages/pandas/_libs/index.pyx\u001b[0m in \u001b[0;36mpandas._libs.index.IndexEngine.get_loc\u001b[0;34m()\u001b[0m\n",
            "\u001b[0;32mpandas/_libs/hashtable_class_helper.pxi\u001b[0m in \u001b[0;36mpandas._libs.hashtable.Int64HashTable.get_item\u001b[0;34m()\u001b[0m\n",
            "\u001b[0;32mpandas/_libs/hashtable_class_helper.pxi\u001b[0m in \u001b[0;36mpandas._libs.hashtable.Int64HashTable.get_item\u001b[0;34m()\u001b[0m\n",
            "\u001b[0;31mKeyError\u001b[0m: 0",
            "\nThe above exception was the direct cause of the following exception:\n",
            "\u001b[0;31mKeyError\u001b[0m                                  Traceback (most recent call last)",
            "\u001b[0;32m<ipython-input-64-4affd570efbd>\u001b[0m in \u001b[0;36m<cell line: 10>\u001b[0;34m()\u001b[0m\n\u001b[1;32m      9\u001b[0m \u001b[0mlength1\u001b[0m \u001b[0;34m=\u001b[0m \u001b[0mlen\u001b[0m\u001b[0;34m(\u001b[0m\u001b[0mvalue_y\u001b[0m\u001b[0;34m)\u001b[0m\u001b[0;34m\u001b[0m\u001b[0;34m\u001b[0m\u001b[0m\n\u001b[1;32m     10\u001b[0m \u001b[0;32mfor\u001b[0m \u001b[0mz\u001b[0m \u001b[0;32min\u001b[0m \u001b[0mrange\u001b[0m\u001b[0;34m(\u001b[0m\u001b[0mlength1\u001b[0m\u001b[0;34m)\u001b[0m\u001b[0;34m:\u001b[0m\u001b[0;34m\u001b[0m\u001b[0;34m\u001b[0m\u001b[0m\n\u001b[0;32m---> 11\u001b[0;31m   \u001b[0mprint\u001b[0m\u001b[0;34m(\u001b[0m\u001b[0mbed_x\u001b[0m\u001b[0;34m[\u001b[0m\u001b[0mz\u001b[0m\u001b[0;34m]\u001b[0m\u001b[0;34m)\u001b[0m\u001b[0;34m\u001b[0m\u001b[0;34m\u001b[0m\u001b[0m\n\u001b[0m\u001b[1;32m     12\u001b[0m \u001b[0;34m\u001b[0m\u001b[0m\n\u001b[1;32m     13\u001b[0m \u001b[0mbed_x\u001b[0m \u001b[0;34m=\u001b[0m \u001b[0mregion_df\u001b[0m\u001b[0;34m[\u001b[0m\u001b[0;34m'BEDS'\u001b[0m\u001b[0;34m]\u001b[0m\u001b[0;34m\u001b[0m\u001b[0;34m\u001b[0m\u001b[0m\n",
            "\u001b[0;32m/usr/local/lib/python3.10/dist-packages/pandas/core/series.py\u001b[0m in \u001b[0;36m__getitem__\u001b[0;34m(self, key)\u001b[0m\n\u001b[1;32m    979\u001b[0m \u001b[0;34m\u001b[0m\u001b[0m\n\u001b[1;32m    980\u001b[0m         \u001b[0;32melif\u001b[0m \u001b[0mkey_is_scalar\u001b[0m\u001b[0;34m:\u001b[0m\u001b[0;34m\u001b[0m\u001b[0;34m\u001b[0m\u001b[0m\n\u001b[0;32m--> 981\u001b[0;31m             \u001b[0;32mreturn\u001b[0m \u001b[0mself\u001b[0m\u001b[0;34m.\u001b[0m\u001b[0m_get_value\u001b[0m\u001b[0;34m(\u001b[0m\u001b[0mkey\u001b[0m\u001b[0;34m)\u001b[0m\u001b[0;34m\u001b[0m\u001b[0;34m\u001b[0m\u001b[0m\n\u001b[0m\u001b[1;32m    982\u001b[0m \u001b[0;34m\u001b[0m\u001b[0m\n\u001b[1;32m    983\u001b[0m         \u001b[0;32mif\u001b[0m \u001b[0mis_hashable\u001b[0m\u001b[0;34m(\u001b[0m\u001b[0mkey\u001b[0m\u001b[0;34m)\u001b[0m\u001b[0;34m:\u001b[0m\u001b[0;34m\u001b[0m\u001b[0;34m\u001b[0m\u001b[0m\n",
            "\u001b[0;32m/usr/local/lib/python3.10/dist-packages/pandas/core/series.py\u001b[0m in \u001b[0;36m_get_value\u001b[0;34m(self, label, takeable)\u001b[0m\n\u001b[1;32m   1087\u001b[0m \u001b[0;34m\u001b[0m\u001b[0m\n\u001b[1;32m   1088\u001b[0m         \u001b[0;31m# Similar to Index.get_value, but we do not fall back to positional\u001b[0m\u001b[0;34m\u001b[0m\u001b[0;34m\u001b[0m\u001b[0m\n\u001b[0;32m-> 1089\u001b[0;31m         \u001b[0mloc\u001b[0m \u001b[0;34m=\u001b[0m \u001b[0mself\u001b[0m\u001b[0;34m.\u001b[0m\u001b[0mindex\u001b[0m\u001b[0;34m.\u001b[0m\u001b[0mget_loc\u001b[0m\u001b[0;34m(\u001b[0m\u001b[0mlabel\u001b[0m\u001b[0;34m)\u001b[0m\u001b[0;34m\u001b[0m\u001b[0;34m\u001b[0m\u001b[0m\n\u001b[0m\u001b[1;32m   1090\u001b[0m         \u001b[0;32mreturn\u001b[0m \u001b[0mself\u001b[0m\u001b[0;34m.\u001b[0m\u001b[0mindex\u001b[0m\u001b[0;34m.\u001b[0m\u001b[0m_get_values_for_loc\u001b[0m\u001b[0;34m(\u001b[0m\u001b[0mself\u001b[0m\u001b[0;34m,\u001b[0m \u001b[0mloc\u001b[0m\u001b[0;34m,\u001b[0m \u001b[0mlabel\u001b[0m\u001b[0;34m)\u001b[0m\u001b[0;34m\u001b[0m\u001b[0;34m\u001b[0m\u001b[0m\n\u001b[1;32m   1091\u001b[0m \u001b[0;34m\u001b[0m\u001b[0m\n",
            "\u001b[0;32m/usr/local/lib/python3.10/dist-packages/pandas/core/indexes/base.py\u001b[0m in \u001b[0;36mget_loc\u001b[0;34m(self, key, method, tolerance)\u001b[0m\n\u001b[1;32m   3802\u001b[0m                 \u001b[0;32mreturn\u001b[0m \u001b[0mself\u001b[0m\u001b[0;34m.\u001b[0m\u001b[0m_engine\u001b[0m\u001b[0;34m.\u001b[0m\u001b[0mget_loc\u001b[0m\u001b[0;34m(\u001b[0m\u001b[0mcasted_key\u001b[0m\u001b[0;34m)\u001b[0m\u001b[0;34m\u001b[0m\u001b[0;34m\u001b[0m\u001b[0m\n\u001b[1;32m   3803\u001b[0m             \u001b[0;32mexcept\u001b[0m \u001b[0mKeyError\u001b[0m \u001b[0;32mas\u001b[0m \u001b[0merr\u001b[0m\u001b[0;34m:\u001b[0m\u001b[0;34m\u001b[0m\u001b[0;34m\u001b[0m\u001b[0m\n\u001b[0;32m-> 3804\u001b[0;31m                 \u001b[0;32mraise\u001b[0m \u001b[0mKeyError\u001b[0m\u001b[0;34m(\u001b[0m\u001b[0mkey\u001b[0m\u001b[0;34m)\u001b[0m \u001b[0;32mfrom\u001b[0m \u001b[0merr\u001b[0m\u001b[0;34m\u001b[0m\u001b[0;34m\u001b[0m\u001b[0m\n\u001b[0m\u001b[1;32m   3805\u001b[0m             \u001b[0;32mexcept\u001b[0m \u001b[0mTypeError\u001b[0m\u001b[0;34m:\u001b[0m\u001b[0;34m\u001b[0m\u001b[0;34m\u001b[0m\u001b[0m\n\u001b[1;32m   3806\u001b[0m                 \u001b[0;31m# If we have a listlike key, _check_indexing_error will raise\u001b[0m\u001b[0;34m\u001b[0m\u001b[0;34m\u001b[0m\u001b[0m\n",
            "\u001b[0;31mKeyError\u001b[0m: 0"
          ]
        }
      ]
    },
    {
      "cell_type": "code",
      "source": [
        "from sklearn.linear_model import LinearRegression\n",
        "\n",
        "x1 = []\n",
        "y1 = []\n",
        "z= 0\n",
        "bed_x = region_df['BEDS']\n",
        "for x in bed_x:\n",
        "  if z < 348:\n",
        "    x1.append(x)\n",
        "    z = z +1\n",
        "value_y = region_df['PRICE']\n",
        "z = 0\n",
        "for y in value_y:\n",
        "  if z < 348:\n",
        "    y1.append(y)\n",
        "    z = z +1\n",
        "print(x1)\n",
        "print(y1)\n",
        "\n",
        "x1 = np.array(x1).reshape(-1,1)\n",
        "y1 = np.array(y1).reshape(-1,1)\n",
        "regressor = LinearRegression()\n",
        "regressor.fit(x1, y1)\n",
        "\n",
        "plt.scatter(x1, y1, color = 'red')\n",
        "plt.plot(x1, regressor.predict(x1), color = 'blue')\n",
        "plt.title('BEDS vs PRICE')\n",
        "plt.xlabel('BEDS')\n",
        "plt.ylabel('PRICE')\n",
        "plt.show()"
      ],
      "metadata": {
        "colab": {
          "base_uri": "https://localhost:8080/",
          "height": 527
        },
        "id": "_UQrx4BHqtK2",
        "outputId": "eecdb4bc-d892-41cc-f2bc-3c32c8199f42"
      },
      "execution_count": null,
      "outputs": [
        {
          "output_type": "stream",
          "name": "stdout",
          "text": [
            "[2.0, 2.0, 2.0, 3.0, 4.0, 4.0, 2.0, 3.0, 3.0, 5.0, 6.0, 9.0, 3.0, 6.0, 7.0, 2.0, 3.0, 6.0, 8.0, 7.0, 6.0, 4.0, 2.0, 2.0, 5.0, 5.0, 3.0, 4.0, 4.0, 3.0, 4.0, 6.0, 4.0, 6.0, 10.0, 6.0, 8.0, 2.0, 4.0, 5.0, 3.0, 3.0, 3.0, 4.0, 2.0, 4.0, 1.0, 8.0, 2.0, 4.0, 5.0, 4.0, 4.0, 5.0, 6.0, 2.0, 2.0, 3.0, 5.0, 10.0, 5.0, 8.0, 6.0, 6.0, 4.0, 3.0, 2.0, 7.0, 4.0, 4.0, 2.0, 8.0, 3.0, 3.0, 3.0, 6.0, 1.0, 5.0, 3.0, 7.0, 3.0, 6.0, 3.0, 5.0, 16.0, 3.0, 5.0, 4.0, 3.0, 5.0, 2.0, 5.0, 4.0, 3.0, 4.0, 3.0, 4.0, 5.0, 4.0, 5.0, 2.0, 2.0, 5.0, 4.0, 7.0, 7.0, 9.0, 9.0, 7.0, 5.0, 2.0, 7.0, 4.0, 2.0, 3.0, 1.0, 2.0, 2.0, 5.0, 7.0, 2.0, 2.0, 6.0, 7.0, 1.0, 4.0, 1.0, 6.0, 2.0, 6.0, 8.0, 14.0, 6.0, 2.0, 6.0, 4.0, 5.0, 2.0, 2.0, 2.0, 12.0, 4.0, 5.0, 3.0, 2.0, 5.0, 4.0, 3.0, 4.0, 2.0, 5.0, 19.0, 5.0, 3.0, 6.0, 6.0, 3.0, 2.0, 4.0, 8.0, 2.0, 8.0, 2.0, 2.0, 5.0, 4.0, 7.0, 5.0, 6.0, 8.0, 2.0, 2.0, 2.0, 4.0, 5.0, 3.0, 6.0, 5.0, 6.0, 2.0, 6.0, 2.0, 5.0, 4.0, 2.0, 5.0, 4.0, 7.0, 6.0, 8.0, 5.0, 4.0, 7.0, 4.0, 2.0, 3.0, 7.0, 8.0, 7.0, 4.0, 6.0, 5.0, 3.0, 5.0, 2.0, 4.0, 8.0, 5.0, 0.0, 5.0, 5.0, 6.0, 7.0, 2.0, 2.0, 7.0, 3.0, 8.0, 5.0, 5.0, 10.0, 4.0, 6.0, 7.0, 17.0, 8.0, 2.0, 6.0, 6.0, 5.0, 6.0, 3.0]\n",
            "[2899000.0, 1150000.0, 3599999.0, 1795000.0, 12900000.0, 2995000.0, 1395000.0, 7125000.0, 1930000.0, 17500000.0, 14500000.0, 27000000.0, 3995000.0, 3000000.0, 11000000.0, 1475000.0, 2088000.0, 18950000.0, 3690000.0, 19999500.0, 2499000.0, 7900000.0, 1995000.0, 999000.0, 10995000.0, 2895000.0, 4800000.0, 3500000.0, 2195000.0, 3450000.0, 4195000.0, 13250000.0, 4970000.0, 8995000.0, 4195000.0, 4350000.0, 4395000.0, 1345000.0, 16995000.0, 23995000.0, 1995000.0, 4100000.0, 2150000.0, 2899000.0, 1498000.0, 2850000.0, 970000.0, 17500000.0, 3999000.0, 4500000.0, 4850000.0, 10995000.0, 14995000.0, 6225000.0, 10995000.0, 2595000.0, 1497000.0, 3695000.0, 6750000.0, 30000000.0, 3750000.0, 126000000.0, 40000000.0, 4399999.0, 5500000.0, 1895000.0, 1395000.0, 45950000.0, 5952000.0, 5250000.0, 19995000.0, 3799999.0, 1795000.0, 3898000.0, 5995000.0, 18750000.0, 2975000.0, 8995000.0, 4693000.0, 11995000.0, 1450000.0, 15995000.0, 2299000.0, 7700000.0, 7750000.0, 2749000.0, 11995000.0, 17750000.0, 2475000.0, 16995000.0, 2100000.0, 4250000.0, 4900000.0, 3950000.0, 2695000.0, 3885000.0, 8195000.0, 7899000.0, 5500000.0, 9499000.0, 988000.0, 900000.0, 4000000.0, 6890000.0, 11995000.0, 9750000.0, 19995000.0, 49500000.0, 23999000.0, 6800000.0, 1600000.0, 44800000.0, 4795000.0, 1350000.0, 8495000.0, 795000.0, 1749000.0, 2195000.0, 4495000.0, 19950000.0, 1525000.0, 1745000.0, 29995000.0, 22950000.0, 1299000.0, 3995000.0, 1195000.0, 3200000.0, 10800000.0, 16395000.0, 4000000.0, 4500000.0, 12500000.0, 6560000.0, 9995000.0, 2295000.0, 6295000.0, 5100000.0, 2450000.0, 1139000.0, 85000000.0, 4595000.0, 11999999.0, 10495000.0, 1895000.0, 19500000.0, 3750000.0, 7500000.0, 1495000.0, 2750000.0, 16500000.0, 68000000.0, 7495000.0, 3595000.0, 3700000.0, 9000000.0, 8900000.0, 1625000.0, 4350000.0, 8000000.0, 1095000.0, 4295000.0, 1799000.0, 1450000.0, 13995000.0, 4995000.0, 72500000.0, 7195000.0, 6395000.0, 29950000.0, 5950000.0, 1479000.0, 1799000.0, 14995000.0, 13995000.0, 2199000.0, 21995000.0, 35000000.0, 5999999.0, 1995000.0, 12995000.0, 2350000.0, 6495000.0, 3200000.0, 1499000.0, 4500000.0, 4595000.0, 19995000.0, 6180000.0, 12500000.0, 13995000.0, 17995000.0, 29995000.0, 14500000.0, 2995000.0, 1949000.0, 15950000.0, 19500000.0, 24500000.0, 11500000.0, 4950000.0, 8999900.0, 2395000.0, 7500000.0, 2250000.0, 10500000.0, 24950000.0, 6995000.0, 10500000.0, 5850000.0, 11995000.0, 29950000.0, 15000000.0, 2850000.0, 1999999.0, 25000000.0, 6950000.0, 2695498.0, 45000000.0, 29995000.0, 88000000.0, 1699000.0, 2795000.0, 62000000.0, 65000000.0, 5500000.0, 1595000.0, 14950000.0, 11960000.0, 5999000.0, 8448000.0, 1799000.0]\n"
          ]
        },
        {
          "output_type": "display_data",
          "data": {
            "text/plain": [
              "<Figure size 640x480 with 1 Axes>"
            ],
            "image/png": "[encoded data removed]"
          },
          "metadata": {}
        }
      ]
    },
    {
      "cell_type": "code",
      "source": [
        "from sklearn.linear_model import LinearRegression\n",
        "\n",
        "x1 = []\n",
        "y1 = []\n",
        "z= 0\n",
        "bed_x = region_df['BEDS']\n",
        "for x in bed_x:\n",
        "  if z < 348:\n",
        "    x1.append(x)\n",
        "    z = z +1\n",
        "value_y = region_df['BATHS']\n",
        "z = 0\n",
        "for y in value_y:\n",
        "  if z < 348:\n",
        "    y1.append(y)\n",
        "    z = z +1\n",
        "print(x1)\n",
        "print(y1)\n",
        "\n",
        "x1 = np.array(x1).reshape(-1,1)\n",
        "y1 = np.array(y1).reshape(-1,1)\n",
        "regressor = LinearRegression()\n",
        "regressor.fit(x1, y1)\n",
        "\n",
        "plt.scatter(x1, y1, color = 'red')\n",
        "plt.plot(x1, regressor.predict(x1), color = 'blue')\n",
        "plt.title('BEDS vs BATHS')\n",
        "plt.xlabel('BEDS')\n",
        "plt.ylabel('BATHS')\n",
        "plt.show()"
      ],
      "metadata": {
        "colab": {
          "base_uri": "https://localhost:8080/",
          "height": 527
        },
        "id": "ucP9gLrcueei",
        "outputId": "23004a0b-4784-4511-a1c8-996902a8aacb"
      },
      "execution_count": null,
      "outputs": [
        {
          "output_type": "stream",
          "name": "stdout",
          "text": [
            "[2.0, 2.0, 2.0, 3.0, 4.0, 4.0, 2.0, 3.0, 3.0, 5.0, 6.0, 9.0, 3.0, 6.0, 7.0, 2.0, 3.0, 6.0, 8.0, 7.0, 6.0, 4.0, 2.0, 2.0, 5.0, 5.0, 3.0, 4.0, 4.0, 3.0, 4.0, 6.0, 4.0, 6.0, 10.0, 6.0, 8.0, 2.0, 4.0, 5.0, 3.0, 3.0, 3.0, 4.0, 2.0, 4.0, 1.0, 8.0, 2.0, 4.0, 5.0, 4.0, 4.0, 5.0, 6.0, 2.0, 2.0, 3.0, 5.0, 10.0, 5.0, 8.0, 6.0, 6.0, 4.0, 3.0, 2.0, 7.0, 4.0, 4.0, 2.0, 8.0, 3.0, 3.0, 3.0, 6.0, 1.0, 5.0, 3.0, 7.0, 3.0, 6.0, 3.0, 5.0, 16.0, 3.0, 5.0, 4.0, 3.0, 5.0, 2.0, 5.0, 4.0, 3.0, 4.0, 3.0, 4.0, 5.0, 4.0, 5.0, 2.0, 2.0, 5.0, 4.0, 7.0, 7.0, 9.0, 9.0, 7.0, 5.0, 2.0, 7.0, 4.0, 2.0, 3.0, 1.0, 2.0, 2.0, 5.0, 7.0, 2.0, 2.0, 6.0, 7.0, 1.0, 4.0, 1.0, 6.0, 2.0, 6.0, 8.0, 14.0, 6.0, 2.0, 6.0, 4.0, 5.0, 2.0, 2.0, 2.0, 12.0, 4.0, 5.0, 3.0, 2.0, 5.0, 4.0, 3.0, 4.0, 2.0, 5.0, 19.0, 5.0, 3.0, 6.0, 6.0, 3.0, 2.0, 4.0, 8.0, 2.0, 8.0, 2.0, 2.0, 5.0, 4.0, 7.0, 5.0, 6.0, 8.0, 2.0, 2.0, 2.0, 4.0, 5.0, 3.0, 6.0, 5.0, 6.0, 2.0, 6.0, 2.0, 5.0, 4.0, 2.0, 5.0, 4.0, 7.0, 6.0, 8.0, 5.0, 4.0, 7.0, 4.0, 2.0, 3.0, 7.0, 8.0, 7.0, 4.0, 6.0, 5.0, 3.0, 5.0, 2.0, 4.0, 8.0, 5.0, 5.0, 5.0, 6.0, 7.0, 2.0, 2.0, 7.0, 3.0, 8.0, 5.0, 5.0, 10.0, 4.0, 6.0, 7.0, 17.0, 8.0, 2.0, 6.0, 6.0, 5.0, 6.0, 3.0]\n",
            "[2.5, 2.0, 3.0, 3.0, 7.0, 3.5, 3.0, 3.5, 3.0, 7.0, 8.0, 10.5, 3.5, 4.0, 7.0, 3.0, 3.0, 8.5, 4.0, 9.0, 4.0, 6.0, 2.0, 2.0, 6.0, 3.0, 4.0, 3.0, 3.0, 3.5, 4.0, 7.0, 5.5, 7.5, 8.0, 10.0, 8.0, 2.0, 4.5, 5.0, 2.5, 3.5, 3.0, 3.0, 2.5, 3.5, 1.5, 10.0, 2.5, 4.0, 4.5, 5.0, 5.0, 6.0, 9.0, 2.0, 3.0, 3.0, 8.0, 13.0, 4.0, 20.0, 6.0, 5.0, 4.5, 2.5, 3.0, 9.5, 4.5, 5.0, 1.0, 8.0, 3.0, 2.0, 5.0, 8.0, 1.5, 4.0, 3.0, 8.0, 2.5, 7.0, 2.5, 5.5, 16.0, 3.0, 8.0, 4.5, 3.5, 5.5, 3.0, 4.0, 3.5, 3.5, 3.5, 3.5, 5.0, 4.5, 4.0, 8.0, 2.0, 2.0, 5.5, 4.0, 6.0, 9.0, 15.0, 18.0, 13.0, 4.5, 2.5, 11.0, 4.5, 2.0, 3.0, 1.5, 2.5, 2.5, 4.0, 8.0, 2.0, 2.5, 9.0, 9.5, 2.0, 5.0, 1.0, 4.0, 2.5, 7.0, 6.0, 8.0, 9.0, 3.5, 7.0, 4.0, 5.0, 2.5, 2.5, 2.0, 15.0, 3.5, 6.5, 4.5, 3.0, 7.0, 5.0, 4.0, 3.0, 2.5, 6.5, 33.0, 6.0, 3.5, 6.0, 6.0, 3.5, 2.5, 4.5, 10.0, 2.0, 10.0, 2.0, 2.0, 5.5, 4.0, 12.0, 7.0, 7.0, 13.0, 2.5, 2.0, 2.5, 6.0, 4.0, 2.5, 8.0, 7.0, 6.5, 2.5, 8.0, 2.5, 7.5, 2.0, 2.5, 4.0, 6.5, 12.0, 4.0, 10.0, 6.0, 6.0, 12.5, 4.5, 2.5, 3.0, 11.0, 12.0, 8.5, 4.0, 6.0, 6.0, 2.0, 7.0, 1.0, 4.0, 8.5, 8.0, 4.0, 7.0, 8.0, 8.5, 2.5, 2.0, 12.0, 2.0, 4.0, 10.0, 7.5, 22.0, 3.0, 4.0, 14.0, 17.0, 8.0, 2.5, 8.0, 6.5, 7.0, 5.5, 2.5]\n"
          ]
        },
        {
          "output_type": "display_data",
          "data": {
            "text/plain": [
              "<Figure size 640x480 with 1 Axes>"
            ],
            "image/png": "[encoded data removed]"
          },
          "metadata": {}
        }
      ]
    },
    {
      "cell_type": "code",
      "source": [
        "import numpy as np\n",
        "import matplotlib.pyplot as plt\n",
        "from scipy.cluster.hierarchy import dendrogram, linkage\n",
        "\n",
        "x1 = []\n",
        "y1 = []\n",
        "z= 0\n",
        "bed_x = region_df['BEDS']\n",
        "for x in bed_x:\n",
        "  if z < 348:\n",
        "    x1.append(x)\n",
        "    z = z +1\n",
        "value_y = region_df['BATHS']\n",
        "z = 0\n",
        "for y in value_y:\n",
        "  if z < 348:\n",
        "    y1.append(y)\n",
        "    z = z +1\n",
        "print(x1)\n",
        "print(y1)\n",
        "\n",
        "plt.hist(y1, 30, color= 'blue')\n",
        "plt.hist(x1, 30, color= 'red')\n",
        "\n",
        "plt.title('BEDS vs BATHS')\n",
        "plt.xlabel('BEDS')\n",
        "plt.ylabel('BATHS')\n",
        "plt.show()"
      ],
      "metadata": {
        "colab": {
          "base_uri": "https://localhost:8080/",
          "height": 527
        },
        "id": "hIjPCJDTvcGD",
        "outputId": "9613e349-84fb-486f-be2b-024ba687687b"
      },
      "execution_count": null,
      "outputs": [
        {
          "output_type": "stream",
          "name": "stdout",
          "text": [
            "[2.0, 2.0, 2.0, 3.0, 4.0, 4.0, 2.0, 3.0, 3.0, 5.0, 6.0, 9.0, 3.0, 6.0, 7.0, 2.0, 3.0, 6.0, 8.0, 7.0, 6.0, 4.0, 2.0, 2.0, 5.0, 5.0, 3.0, 4.0, 4.0, 3.0, 4.0, 6.0, 4.0, 6.0, 10.0, 6.0, 8.0, 2.0, 4.0, 5.0, 3.0, 3.0, 3.0, 4.0, 2.0, 4.0, 1.0, 8.0, 2.0, 4.0, 5.0, 4.0, 4.0, 5.0, 6.0, 2.0, 2.0, 3.0, 5.0, 10.0, 5.0, 8.0, 6.0, 6.0, 4.0, 3.0, 2.0, 7.0, 4.0, 4.0, 2.0, 8.0, 3.0, 3.0, 3.0, 6.0, 1.0, 5.0, 3.0, 7.0, 3.0, 6.0, 3.0, 5.0, 16.0, 3.0, 5.0, 4.0, 3.0, 5.0, 2.0, 5.0, 4.0, 3.0, 4.0, 3.0, 4.0, 5.0, 4.0, 5.0, 2.0, 2.0, 5.0, 4.0, 7.0, 7.0, 9.0, 9.0, 7.0, 5.0, 2.0, 7.0, 4.0, 2.0, 3.0, 1.0, 2.0, 2.0, 5.0, 7.0, 2.0, 2.0, 6.0, 7.0, 1.0, 4.0, 1.0, 6.0, 2.0, 6.0, 8.0, 14.0, 6.0, 2.0, 6.0, 4.0, 5.0, 2.0, 2.0, 2.0, 12.0, 4.0, 5.0, 3.0, 2.0, 5.0, 4.0, 3.0, 4.0, 2.0, 5.0, 19.0, 5.0, 3.0, 6.0, 6.0, 3.0, 2.0, 4.0, 8.0, 2.0, 8.0, 2.0, 2.0, 5.0, 4.0, 7.0, 5.0, 6.0, 8.0, 2.0, 2.0, 2.0, 4.0, 5.0, 3.0, 6.0, 5.0, 6.0, 2.0, 6.0, 2.0, 5.0, 4.0, 2.0, 5.0, 4.0, 7.0, 6.0, 8.0, 5.0, 4.0, 7.0, 4.0, 2.0, 3.0, 7.0, 8.0, 7.0, 4.0, 6.0, 5.0, 3.0, 5.0, 2.0, 4.0, 8.0, 5.0, 5.0, 5.0, 6.0, 7.0, 2.0, 2.0, 7.0, 3.0, 8.0, 5.0, 5.0, 10.0, 4.0, 6.0, 7.0, 17.0, 8.0, 2.0, 6.0, 6.0, 5.0, 6.0, 3.0]\n",
            "[2.5, 2.0, 3.0, 3.0, 7.0, 3.5, 3.0, 3.5, 3.0, 7.0, 8.0, 10.5, 3.5, 4.0, 7.0, 3.0, 3.0, 8.5, 4.0, 9.0, 4.0, 6.0, 2.0, 2.0, 6.0, 3.0, 4.0, 3.0, 3.0, 3.5, 4.0, 7.0, 5.5, 7.5, 8.0, 10.0, 8.0, 2.0, 4.5, 5.0, 2.5, 3.5, 3.0, 3.0, 2.5, 3.5, 1.5, 10.0, 2.5, 4.0, 4.5, 5.0, 5.0, 6.0, 9.0, 2.0, 3.0, 3.0, 8.0, 13.0, 4.0, 20.0, 6.0, 5.0, 4.5, 2.5, 3.0, 9.5, 4.5, 5.0, 1.0, 8.0, 3.0, 2.0, 5.0, 8.0, 1.5, 4.0, 3.0, 8.0, 2.5, 7.0, 2.5, 5.5, 16.0, 3.0, 8.0, 4.5, 3.5, 5.5, 3.0, 4.0, 3.5, 3.5, 3.5, 3.5, 5.0, 4.5, 4.0, 8.0, 2.0, 2.0, 5.5, 4.0, 6.0, 9.0, 15.0, 18.0, 13.0, 4.5, 2.5, 11.0, 4.5, 2.0, 3.0, 1.5, 2.5, 2.5, 4.0, 8.0, 2.0, 2.5, 9.0, 9.5, 2.0, 5.0, 1.0, 4.0, 2.5, 7.0, 6.0, 8.0, 9.0, 3.5, 7.0, 4.0, 5.0, 2.5, 2.5, 2.0, 15.0, 3.5, 6.5, 4.5, 3.0, 7.0, 5.0, 4.0, 3.0, 2.5, 6.5, 33.0, 6.0, 3.5, 6.0, 6.0, 3.5, 2.5, 4.5, 10.0, 2.0, 10.0, 2.0, 2.0, 5.5, 4.0, 12.0, 7.0, 7.0, 13.0, 2.5, 2.0, 2.5, 6.0, 4.0, 2.5, 8.0, 7.0, 6.5, 2.5, 8.0, 2.5, 7.5, 2.0, 2.5, 4.0, 6.5, 12.0, 4.0, 10.0, 6.0, 6.0, 12.5, 4.5, 2.5, 3.0, 11.0, 12.0, 8.5, 4.0, 6.0, 6.0, 2.0, 7.0, 1.0, 4.0, 8.5, 8.0, 4.0, 7.0, 8.0, 8.5, 2.5, 2.0, 12.0, 2.0, 4.0, 10.0, 7.5, 22.0, 3.0, 4.0, 14.0, 17.0, 8.0, 2.5, 8.0, 6.5, 7.0, 5.5, 2.5]\n"
          ]
        },
        {
          "output_type": "display_data",
          "data": {
            "text/plain": [
              "<Figure size 640x480 with 1 Axes>"
            ],
            "image/png": "[encoded data removed]"
          },
          "metadata": {}
        }
      ]
    },
    {
      "cell_type": "markdown",
      "source": [
        "For debugging purposes..."
      ],
      "metadata": {
        "id": "ooVxBLw9fHxg"
      }
    },
    {
      "cell_type": "code",
      "source": [
        "!pip install -Uqq ipdb\n",
        "import ipdb\n",
        "%pdb on"
      ],
      "metadata": {
        "colab": {
          "base_uri": "https://localhost:8080/"
        },
        "id": "4UB4sXXIdlC_",
        "outputId": "5a288343-ac9c-4580-a33d-4cd00320000c"
      },
      "execution_count": null,
      "outputs": [
        {
          "output_type": "stream",
          "name": "stdout",
          "text": [
            "Automatic pdb calling has been turned ON\n"
          ]
        }
      ]
    },
    {
      "cell_type": "code",
      "source": [
        "# scrape redfin data\n",
        "\n",
        "region_id = pd.read_csv('/content/drive/MyDrive/602-project/Region_id.csv')\n",
        "# region_id = region_id[region_id.location.isin(['Rowland Heights', 'Arcadia', 'Walnut', 'El Monte'])].reset_index(drop=True)\n",
        "region_id = region_id[region_id.location.isin(['Beverly Hills', 'Los Angeles', 'Santa Monica', 'Long Beach'])].reset_index(drop=True)\n",
        "\n",
        "n = region_id.shape[0]"
      ],
      "metadata": {
        "id": "Syf9jcrJtM-4"
      },
      "execution_count": null,
      "outputs": []
    },
    {
      "cell_type": "code",
      "execution_count": null,
      "metadata": {
        "colab": {
          "base_uri": "https://localhost:8080/"
        },
        "id": "UfqibhmibPrT",
        "outputId": "f66ad5f0-90ef-40e4-8b2a-d6e44ae6082c"
      },
      "outputs": [
        {
          "output_type": "stream",
          "name": "stdout",
          "text": [
            "Finish downloading Redfin data!\n"
          ]
        }
      ],
      "source": [
        "master = pd.DataFrame(columns = ['month', 'sale_volume', 'price_med', 'location'])\n",
        "for i in range(n):\n",
        "    # download all the historical sales data\n",
        "    data = pd.DataFrame()\n",
        "    # 2 Bedrooms or below\n",
        "    repeat = 1\n",
        "    while repeat:\n",
        "        try:\n",
        "            print('We are working on ' + region_id['location'][i] + ' : bedroom ' + str(2))\n",
        "            url = r'https://www.redfin.com/stingray/api/gis-csv?al=1&market=socal&max_num_beds=2&min_stories=1&num_home=20000&ord=redfin-recommended-asc&page_number=1&region_id={}&region_type=6&sold_within_days=36500&status=9&uipt=1,2,3,4,5,6&v=8'.format(region_id['region_id'][i])\n",
        "            print(url)\n",
        "            page = requests.get(url, headers={'User-Agent': 'Mozilla/5.0'}).content\n",
        "            time.sleep(1+random.random())\n",
        "            s = pd.read_csv(io.StringIO(page.decode('utf-8')))\n",
        "            s.drop(s[s['CITY'] != str(region_id['location'][i])].index, inplace=True)\n",
        "            ipdb.set_trace(context=3)\n",
        "            repeat = 0\n",
        "        except:\n",
        "            repeat = 1\n",
        "\n",
        "    data = data.append(s, ignore_index=True)\n",
        "    # 3/4/5/6 Bedrooms\n",
        "    for x in range(3,7):\n",
        "        repeat = 1\n",
        "        while repeat:\n",
        "            try:\n",
        "                try:\n",
        "                    print('We are working on ' + region_id['location'][i] + ' : bedroom ' + str(x))\n",
        "                    url = r'https://www.redfin.com/stingray/api/gis-csv?al=1&market=socal&max_num_beds={}&min_stories=1&num_beds={}&num_home=20000&ord=redfin-recommended-asc&page_number=1&region_id={}&region_type=6&sold_within_days=36500&status=9&uipt=1,2,3,4,5,6&v=8'.format(x, x, region_id['region_id'][i])\n",
        "                    print(url)\n",
        "                    page = requests.get(url, headers={'User-Agent': 'Mozilla/5.0'}).content\n",
        "                    time.sleep(1+random.random())\n",
        "                    s = pd.read_csv(io.StringIO(page.decode('utf-8')))\n",
        "                    repeat = 0\n",
        "\n",
        "                except:\n",
        "                    print('We are working on ' + region_id['location'][i] + ' : bedroom ' + str(x))\n",
        "                    url = r'https://www.redfin.com/stingray/api/gis-csv?al=1&market=socal&max_num_beds={}&min_stories=1&num_beds={}&num_home=20000&ord=redfin-recommended-asc&page_number=1&region_id={}&region_type=6&sold_within_days=36500&status=9&uipt=1,2,3,4,5,6&v=8'.format(x, x, region_id['region_id'][i])\n",
        "                    print(url)\n",
        "                    s = pd.read_csv(url)\n",
        "                    time.sleep(1+random.random())\n",
        "                    repeat = 0\n",
        "            except:\n",
        "                repeat = 1\n",
        "\n",
        "        data = data.append(s, ignore_index=True)\n",
        "\n",
        "    data.to_csv(r'/content/drive/MyDrive/MSML602-FinalProject/rawdata/{}.csv'.format(region_id['location'][i]), index = False)\n",
        "    # need to clean data\n",
        "    # by month/property type: (1) number of house sold (2) median price/sqft\n",
        "    data = data[data['CITY']==region_id['location'][i]]\n",
        "    data = data[data['PROPERTY TYPE']=='Single Family Residential']\n",
        "\n",
        "    data = data[data['SOLD DATE'].isnull()==False]\n",
        "\n",
        "    data['SOLD DATE2'] = pd.to_datetime(data['SOLD DATE'], format='%B-%d-%Y')\n",
        "    data['year'] = pd.DatetimeIndex(data['SOLD DATE2']).year\n",
        "    data['month'] = pd.DatetimeIndex(data['SOLD DATE2']).month\n",
        "    data['SOLD DATE3'] = data['year'].astype(str) + '-' + data['month'].astype(str) + '-' + '01'\n",
        "    data['SOLD DATE3'] = pd.to_datetime(data['SOLD DATE3'], format='%Y-%m-%d').dt.date\n",
        "\n",
        "    # data['SOLD DATE3'] = data['SOLD DATE2'] + pd.offsets.MonthBegin(-1) # this is a trick of shortcout to change date\n",
        "    table = data[['SOLD DATE3', '$/SQUARE FEET']].groupby(['SOLD DATE3']).agg(['count', 'median']).reset_index()\n",
        "    table.columns = ['month', 'sale_volume', 'price_med']\n",
        "    table['location'] = region_id['location'][i]\n",
        "    master = master.append(table)\n",
        "\n",
        "print('Finish downloading Redfin data!')\n",
        "\n",
        "master['month'] = master['month'].astype(str)\n",
        "master['sale_volume'] = master['sale_volume'].astype(int)"
      ]
    },
    {
      "cell_type": "code",
      "source": [
        "master.head()"
      ],
      "metadata": {
        "colab": {
          "base_uri": "https://localhost:8080/",
          "height": 53
        },
        "id": "SELgyy3SIVYD",
        "outputId": "0b237e26-bb50-4e1c-e475-3fb337828def"
      },
      "execution_count": null,
      "outputs": [
        {
          "output_type": "execute_result",
          "data": {
            "text/plain": [
              "Empty DataFrame\n",
              "Columns: [month, sale_volume, price_med, location]\n",
              "Index: []"
            ],
            "text/html": [
              "\n",
              "  <div id=\"df-73da84d4-5e63-487d-999c-a5ac3dc64378\" class=\"colab-df-container\">\n",
              "    <div>\n",
              "<style scoped>\n",
              "    .dataframe tbody tr th:only-of-type {\n",
              "        vertical-align: middle;\n",
              "    }\n",
              "\n",
              "    .dataframe tbody tr th {\n",
              "        vertical-align: top;\n",
              "    }\n",
              "\n",
              "    .dataframe thead th {\n",
              "        text-align: right;\n",
              "    }\n",
              "</style>\n",
              "<table border=\"1\" class=\"dataframe\">\n",
              "  <thead>\n",
              "    <tr style=\"text-align: right;\">\n",
              "      <th></th>\n",
              "      <th>month</th>\n",
              "      <th>sale_volume</th>\n",
              "      <th>price_med</th>\n",
              "      <th>location</th>\n",
              "    </tr>\n",
              "  </thead>\n",
              "  <tbody>\n",
              "  </tbody>\n",
              "</table>\n",
              "</div>\n",
              "    <div class=\"colab-df-buttons\">\n",
              "\n",
              "  <div class=\"colab-df-container\">\n",
              "    <button class=\"colab-df-convert\" onclick=\"convertToInteractive('df-73da84d4-5e63-487d-999c-a5ac3dc64378')\"\n",
              "            title=\"Convert this dataframe to an interactive table.\"\n",
              "            style=\"display:none;\">\n",
              "\n",
              "  <svg xmlns=\"http://www.w3.org/2000/svg\" height=\"24px\" viewBox=\"0 -960 960 960\">\n",
              "    <path d=\"M120-120v-720h720v720H120Zm60-500h600v-160H180v160Zm220 220h160v-160H400v160Zm0 220h160v-160H400v160ZM180-400h160v-160H180v160Zm440 0h160v-160H620v160ZM180-180h160v-160H180v160Zm440 0h160v-160H620v160Z\"/>\n",
              "  </svg>\n",
              "    </button>\n",
              "\n",
              "  <style>\n",
              "    .colab-df-container {\n",
              "      display:flex;\n",
              "      gap: 12px;\n",
              "    }\n",
              "\n",
              "    .colab-df-convert {\n",
              "      background-color: #E8F0FE;\n",
              "      border: none;\n",
              "      border-radius: 50%;\n",
              "      cursor: pointer;\n",
              "      display: none;\n",
              "      fill: #1967D2;\n",
              "      height: 32px;\n",
              "      padding: 0 0 0 0;\n",
              "      width: 32px;\n",
              "    }\n",
              "\n",
              "    .colab-df-convert:hover {\n",
              "      background-color: #E2EBFA;\n",
              "      box-shadow: 0px 1px 2px rgba(60, 64, 67, 0.3), 0px 1px 3px 1px rgba(60, 64, 67, 0.15);\n",
              "      fill: #174EA6;\n",
              "    }\n",
              "\n",
              "    .colab-df-buttons div {\n",
              "      margin-bottom: 4px;\n",
              "    }\n",
              "\n",
              "    [theme=dark] .colab-df-convert {\n",
              "      background-color: #3B4455;\n",
              "      fill: #D2E3FC;\n",
              "    }\n",
              "\n",
              "    [theme=dark] .colab-df-convert:hover {\n",
              "      background-color: #434B5C;\n",
              "      box-shadow: 0px 1px 3px 1px rgba(0, 0, 0, 0.15);\n",
              "      filter: drop-shadow(0px 1px 2px rgba(0, 0, 0, 0.3));\n",
              "      fill: #FFFFFF;\n",
              "    }\n",
              "  </style>\n",
              "\n",
              "    <script>\n",
              "      const buttonEl =\n",
              "        document.querySelector('#df-73da84d4-5e63-487d-999c-a5ac3dc64378 button.colab-df-convert');\n",
              "      buttonEl.style.display =\n",
              "        google.colab.kernel.accessAllowed ? 'block' : 'none';\n",
              "\n",
              "      async function convertToInteractive(key) {\n",
              "        const element = document.querySelector('#df-73da84d4-5e63-487d-999c-a5ac3dc64378');\n",
              "        const dataTable =\n",
              "          await google.colab.kernel.invokeFunction('convertToInteractive',\n",
              "                                                    [key], {});\n",
              "        if (!dataTable) return;\n",
              "\n",
              "        const docLinkHtml = 'Like what you see? Visit the ' +\n",
              "          '<a target=\"_blank\" href=https://colab.research.google.com/notebooks/data_table.ipynb>data table notebook</a>'\n",
              "          + ' to learn more about interactive tables.';\n",
              "        element.innerHTML = '';\n",
              "        dataTable['output_type'] = 'display_data';\n",
              "        await google.colab.output.renderOutput(dataTable, element);\n",
              "        const docLink = document.createElement('div');\n",
              "        docLink.innerHTML = docLinkHtml;\n",
              "        element.appendChild(docLink);\n",
              "      }\n",
              "    </script>\n",
              "  </div>\n",
              "\n",
              "    </div>\n",
              "  </div>\n"
            ]
          },
          "metadata": {},
          "execution_count": 37
        }
      ]
    },
    {
      "cell_type": "code",
      "execution_count": null,
      "metadata": {
        "id": "Jh1WoMa0VKGT"
      },
      "outputs": [],
      "source": [
        "from fredapi import Fred\n",
        "\n",
        "fred = Fred(api_key='3e45db934f364bc329aca420c85fa04e')\n",
        "# extract S&P/Case-Shiller CA-Los Angeles Home Price Index (LXXRNSA)\n",
        "# https://fred.stlouisfed.org/series/LXXRNSA\n",
        "la_hpi_raw = fred.get_series('LXXRNSA')\n",
        "la_hpi = la_hpi_raw.to_frame()\n",
        "la_hpi.columns = ['hpi']\n",
        "la_hpi['month'] = la_hpi.index\n",
        "la_hpi = la_hpi.reset_index(drop = True)\n",
        "la_hpi['month'] = la_hpi.apply(lambda x: x['month'].date(), axis = 1)\n",
        "\n",
        "weights = np.array([0.2, 0.3, 0.5])\n",
        "sum_weights = np.sum(weights)\n",
        "# compute weighted MA from latest 3 months\n",
        "la_hpi['hpi'] = la_hpi['hpi'].rolling(3).apply(lambda x: np.sum(weights*x) / sum_weights, raw=False).reset_index(drop = True)\n",
        "month_diff = datetime.now().month - la_hpi['month'].max().month\n",
        "# reset the month variable so that it can be merged with sales data\n",
        "la_hpi['month'] = la_hpi['month'] + pd.DateOffset(months=month_diff)\n",
        "la_hpi['month'] = la_hpi.apply(lambda x: x['month'].date(), axis = 1)\n",
        "\n",
        "# 30-Year Fixed Rate Mortgage Average in the United States (MORTGAGE30US)\n",
        "# https://fred.stlouisfed.org/series/MORTGAGE30US\n",
        "mort_rate_30yrs_raw = fred.get_series('MORTGAGE30US')\n",
        "\n",
        "mort_rate_30yrs = mort_rate_30yrs_raw.to_frame()\n",
        "mort_rate_30yrs.columns = ['mort_rate']\n",
        "mort_rate_30yrs['date'] = mort_rate_30yrs.index\n",
        "mort_rate_30yrs = mort_rate_30yrs.reset_index(drop = True)\n",
        "mort_rate_30yrs['date'] = mort_rate_30yrs.apply(lambda x: x['date'].date(), axis = 1)\n",
        "mort_rate_30yrs['year'] = mort_rate_30yrs.apply(lambda x: x['date'].year, axis = 1)\n",
        "mort_rate_30yrs['month'] = mort_rate_30yrs.apply(lambda x: x['date'].month, axis = 1)\n",
        "mort_rate_30yrs = mort_rate_30yrs.groupby(['year', 'month'])['mort_rate'].mean().reset_index()\n",
        "mort_rate_30yrs['month'] = mort_rate_30yrs.apply(lambda x: date(int(x['year']), int(x['month']), 1), axis = 1)\n",
        "mort_rate_30yrs = mort_rate_30yrs.drop(columns = ['year'])"
      ]
    },
    {
      "cell_type": "code",
      "execution_count": null,
      "metadata": {
        "colab": {
          "base_uri": "https://localhost:8080/",
          "height": 390
        },
        "id": "TJhWEG6JVth0",
        "outputId": "9d5adfb3-fbe1-42da-a8a7-f02bdee861a5"
      },
      "outputs": [
        {
          "output_type": "error",
          "ename": "FileNotFoundError",
          "evalue": "ignored",
          "traceback": [
            "\u001b[0;31m---------------------------------------------------------------------------\u001b[0m",
            "\u001b[0;31mFileNotFoundError\u001b[0m                         Traceback (most recent call last)",
            "\u001b[0;32m<ipython-input-41-87f031a05e75>\u001b[0m in \u001b[0;36m<cell line: 3>\u001b[0;34m()\u001b[0m\n\u001b[1;32m      2\u001b[0m \u001b[0mdata\u001b[0m \u001b[0;34m=\u001b[0m \u001b[0mpd\u001b[0m\u001b[0;34m.\u001b[0m\u001b[0mDataFrame\u001b[0m\u001b[0;34m(\u001b[0m\u001b[0;34m)\u001b[0m\u001b[0;34m\u001b[0m\u001b[0;34m\u001b[0m\u001b[0m\n\u001b[1;32m      3\u001b[0m \u001b[0;32mfor\u001b[0m \u001b[0mi\u001b[0m \u001b[0;32min\u001b[0m \u001b[0;34m[\u001b[0m\u001b[0;34m'Arcadia'\u001b[0m\u001b[0;34m,\u001b[0m \u001b[0;34m'El Monte'\u001b[0m\u001b[0;34m,\u001b[0m \u001b[0;34m'Rowland Heights'\u001b[0m\u001b[0;34m,\u001b[0m \u001b[0;34m'Walnut'\u001b[0m\u001b[0;34m]\u001b[0m\u001b[0;34m:\u001b[0m\u001b[0;34m\u001b[0m\u001b[0;34m\u001b[0m\u001b[0m\n\u001b[0;32m----> 4\u001b[0;31m     \u001b[0mone\u001b[0m \u001b[0;34m=\u001b[0m \u001b[0mpd\u001b[0m\u001b[0;34m.\u001b[0m\u001b[0mread_csv\u001b[0m\u001b[0;34m(\u001b[0m\u001b[0;34mr'/content/drive/MyDrive/602-project/rawdata/{}.csv'\u001b[0m\u001b[0;34m.\u001b[0m\u001b[0mformat\u001b[0m\u001b[0;34m(\u001b[0m\u001b[0mi\u001b[0m\u001b[0;34m)\u001b[0m\u001b[0;34m)\u001b[0m\u001b[0;34m\u001b[0m\u001b[0;34m\u001b[0m\u001b[0m\n\u001b[0m\u001b[1;32m      5\u001b[0m     \u001b[0mone\u001b[0m \u001b[0;34m=\u001b[0m \u001b[0mone\u001b[0m\u001b[0;34m[\u001b[0m\u001b[0mone\u001b[0m\u001b[0;34m[\u001b[0m\u001b[0;34m'CITY'\u001b[0m\u001b[0;34m]\u001b[0m \u001b[0;34m==\u001b[0m \u001b[0mi\u001b[0m\u001b[0;34m]\u001b[0m\u001b[0;34m\u001b[0m\u001b[0;34m\u001b[0m\u001b[0m\n\u001b[1;32m      6\u001b[0m     \u001b[0mdata\u001b[0m \u001b[0;34m=\u001b[0m \u001b[0mdata\u001b[0m\u001b[0;34m.\u001b[0m\u001b[0mappend\u001b[0m\u001b[0;34m(\u001b[0m\u001b[0mone\u001b[0m\u001b[0;34m)\u001b[0m\u001b[0;34m\u001b[0m\u001b[0;34m\u001b[0m\u001b[0m\n",
            "\u001b[0;32m/usr/local/lib/python3.10/dist-packages/pandas/util/_decorators.py\u001b[0m in \u001b[0;36mwrapper\u001b[0;34m(*args, **kwargs)\u001b[0m\n\u001b[1;32m    209\u001b[0m                 \u001b[0;32melse\u001b[0m\u001b[0;34m:\u001b[0m\u001b[0;34m\u001b[0m\u001b[0;34m\u001b[0m\u001b[0m\n\u001b[1;32m    210\u001b[0m                     \u001b[0mkwargs\u001b[0m\u001b[0;34m[\u001b[0m\u001b[0mnew_arg_name\u001b[0m\u001b[0;34m]\u001b[0m \u001b[0;34m=\u001b[0m \u001b[0mnew_arg_value\u001b[0m\u001b[0;34m\u001b[0m\u001b[0;34m\u001b[0m\u001b[0m\n\u001b[0;32m--> 211\u001b[0;31m             \u001b[0;32mreturn\u001b[0m \u001b[0mfunc\u001b[0m\u001b[0;34m(\u001b[0m\u001b[0;34m*\u001b[0m\u001b[0margs\u001b[0m\u001b[0;34m,\u001b[0m \u001b[0;34m**\u001b[0m\u001b[0mkwargs\u001b[0m\u001b[0;34m)\u001b[0m\u001b[0;34m\u001b[0m\u001b[0;34m\u001b[0m\u001b[0m\n\u001b[0m\u001b[1;32m    212\u001b[0m \u001b[0;34m\u001b[0m\u001b[0m\n\u001b[1;32m    213\u001b[0m         \u001b[0;32mreturn\u001b[0m \u001b[0mcast\u001b[0m\u001b[0;34m(\u001b[0m\u001b[0mF\u001b[0m\u001b[0;34m,\u001b[0m \u001b[0mwrapper\u001b[0m\u001b[0;34m)\u001b[0m\u001b[0;34m\u001b[0m\u001b[0;34m\u001b[0m\u001b[0m\n",
            "\u001b[0;32m/usr/local/lib/python3.10/dist-packages/pandas/util/_decorators.py\u001b[0m in \u001b[0;36mwrapper\u001b[0;34m(*args, **kwargs)\u001b[0m\n\u001b[1;32m    329\u001b[0m                     \u001b[0mstacklevel\u001b[0m\u001b[0;34m=\u001b[0m\u001b[0mfind_stack_level\u001b[0m\u001b[0;34m(\u001b[0m\u001b[0;34m)\u001b[0m\u001b[0;34m,\u001b[0m\u001b[0;34m\u001b[0m\u001b[0;34m\u001b[0m\u001b[0m\n\u001b[1;32m    330\u001b[0m                 )\n\u001b[0;32m--> 331\u001b[0;31m             \u001b[0;32mreturn\u001b[0m \u001b[0mfunc\u001b[0m\u001b[0;34m(\u001b[0m\u001b[0;34m*\u001b[0m\u001b[0margs\u001b[0m\u001b[0;34m,\u001b[0m \u001b[0;34m**\u001b[0m\u001b[0mkwargs\u001b[0m\u001b[0;34m)\u001b[0m\u001b[0;34m\u001b[0m\u001b[0;34m\u001b[0m\u001b[0m\n\u001b[0m\u001b[1;32m    332\u001b[0m \u001b[0;34m\u001b[0m\u001b[0m\n\u001b[1;32m    333\u001b[0m         \u001b[0;31m# error: \"Callable[[VarArg(Any), KwArg(Any)], Any]\" has no\u001b[0m\u001b[0;34m\u001b[0m\u001b[0;34m\u001b[0m\u001b[0m\n",
            "\u001b[0;32m/usr/local/lib/python3.10/dist-packages/pandas/io/parsers/readers.py\u001b[0m in \u001b[0;36mread_csv\u001b[0;34m(filepath_or_buffer, sep, delimiter, header, names, index_col, usecols, squeeze, prefix, mangle_dupe_cols, dtype, engine, converters, true_values, false_values, skipinitialspace, skiprows, skipfooter, nrows, na_values, keep_default_na, na_filter, verbose, skip_blank_lines, parse_dates, infer_datetime_format, keep_date_col, date_parser, dayfirst, cache_dates, iterator, chunksize, compression, thousands, decimal, lineterminator, quotechar, quoting, doublequote, escapechar, comment, encoding, encoding_errors, dialect, error_bad_lines, warn_bad_lines, on_bad_lines, delim_whitespace, low_memory, memory_map, float_precision, storage_options)\u001b[0m\n\u001b[1;32m    948\u001b[0m     \u001b[0mkwds\u001b[0m\u001b[0;34m.\u001b[0m\u001b[0mupdate\u001b[0m\u001b[0;34m(\u001b[0m\u001b[0mkwds_defaults\u001b[0m\u001b[0;34m)\u001b[0m\u001b[0;34m\u001b[0m\u001b[0;34m\u001b[0m\u001b[0m\n\u001b[1;32m    949\u001b[0m \u001b[0;34m\u001b[0m\u001b[0m\n\u001b[0;32m--> 950\u001b[0;31m     \u001b[0;32mreturn\u001b[0m \u001b[0m_read\u001b[0m\u001b[0;34m(\u001b[0m\u001b[0mfilepath_or_buffer\u001b[0m\u001b[0;34m,\u001b[0m \u001b[0mkwds\u001b[0m\u001b[0;34m)\u001b[0m\u001b[0;34m\u001b[0m\u001b[0;34m\u001b[0m\u001b[0m\n\u001b[0m\u001b[1;32m    951\u001b[0m \u001b[0;34m\u001b[0m\u001b[0m\n\u001b[1;32m    952\u001b[0m \u001b[0;34m\u001b[0m\u001b[0m\n",
            "\u001b[0;32m/usr/local/lib/python3.10/dist-packages/pandas/io/parsers/readers.py\u001b[0m in \u001b[0;36m_read\u001b[0;34m(filepath_or_buffer, kwds)\u001b[0m\n\u001b[1;32m    603\u001b[0m \u001b[0;34m\u001b[0m\u001b[0m\n\u001b[1;32m    604\u001b[0m     \u001b[0;31m# Create the parser.\u001b[0m\u001b[0;34m\u001b[0m\u001b[0;34m\u001b[0m\u001b[0m\n\u001b[0;32m--> 605\u001b[0;31m     \u001b[0mparser\u001b[0m \u001b[0;34m=\u001b[0m \u001b[0mTextFileReader\u001b[0m\u001b[0;34m(\u001b[0m\u001b[0mfilepath_or_buffer\u001b[0m\u001b[0;34m,\u001b[0m \u001b[0;34m**\u001b[0m\u001b[0mkwds\u001b[0m\u001b[0;34m)\u001b[0m\u001b[0;34m\u001b[0m\u001b[0;34m\u001b[0m\u001b[0m\n\u001b[0m\u001b[1;32m    606\u001b[0m \u001b[0;34m\u001b[0m\u001b[0m\n\u001b[1;32m    607\u001b[0m     \u001b[0;32mif\u001b[0m \u001b[0mchunksize\u001b[0m \u001b[0;32mor\u001b[0m \u001b[0miterator\u001b[0m\u001b[0;34m:\u001b[0m\u001b[0;34m\u001b[0m\u001b[0;34m\u001b[0m\u001b[0m\n",
            "\u001b[0;32m/usr/local/lib/python3.10/dist-packages/pandas/io/parsers/readers.py\u001b[0m in \u001b[0;36m__init__\u001b[0;34m(self, f, engine, **kwds)\u001b[0m\n\u001b[1;32m   1440\u001b[0m \u001b[0;34m\u001b[0m\u001b[0m\n\u001b[1;32m   1441\u001b[0m         \u001b[0mself\u001b[0m\u001b[0;34m.\u001b[0m\u001b[0mhandles\u001b[0m\u001b[0;34m:\u001b[0m \u001b[0mIOHandles\u001b[0m \u001b[0;34m|\u001b[0m \u001b[0;32mNone\u001b[0m \u001b[0;34m=\u001b[0m \u001b[0;32mNone\u001b[0m\u001b[0;34m\u001b[0m\u001b[0;34m\u001b[0m\u001b[0m\n\u001b[0;32m-> 1442\u001b[0;31m         \u001b[0mself\u001b[0m\u001b[0;34m.\u001b[0m\u001b[0m_engine\u001b[0m \u001b[0;34m=\u001b[0m \u001b[0mself\u001b[0m\u001b[0;34m.\u001b[0m\u001b[0m_make_engine\u001b[0m\u001b[0;34m(\u001b[0m\u001b[0mf\u001b[0m\u001b[0;34m,\u001b[0m \u001b[0mself\u001b[0m\u001b[0;34m.\u001b[0m\u001b[0mengine\u001b[0m\u001b[0;34m)\u001b[0m\u001b[0;34m\u001b[0m\u001b[0;34m\u001b[0m\u001b[0m\n\u001b[0m\u001b[1;32m   1443\u001b[0m \u001b[0;34m\u001b[0m\u001b[0m\n\u001b[1;32m   1444\u001b[0m     \u001b[0;32mdef\u001b[0m \u001b[0mclose\u001b[0m\u001b[0;34m(\u001b[0m\u001b[0mself\u001b[0m\u001b[0;34m)\u001b[0m \u001b[0;34m->\u001b[0m \u001b[0;32mNone\u001b[0m\u001b[0;34m:\u001b[0m\u001b[0;34m\u001b[0m\u001b[0;34m\u001b[0m\u001b[0m\n",
            "\u001b[0;32m/usr/local/lib/python3.10/dist-packages/pandas/io/parsers/readers.py\u001b[0m in \u001b[0;36m_make_engine\u001b[0;34m(self, f, engine)\u001b[0m\n\u001b[1;32m   1733\u001b[0m                 \u001b[0;32mif\u001b[0m \u001b[0;34m\"b\"\u001b[0m \u001b[0;32mnot\u001b[0m \u001b[0;32min\u001b[0m \u001b[0mmode\u001b[0m\u001b[0;34m:\u001b[0m\u001b[0;34m\u001b[0m\u001b[0;34m\u001b[0m\u001b[0m\n\u001b[1;32m   1734\u001b[0m                     \u001b[0mmode\u001b[0m \u001b[0;34m+=\u001b[0m \u001b[0;34m\"b\"\u001b[0m\u001b[0;34m\u001b[0m\u001b[0;34m\u001b[0m\u001b[0m\n\u001b[0;32m-> 1735\u001b[0;31m             self.handles = get_handle(\n\u001b[0m\u001b[1;32m   1736\u001b[0m                 \u001b[0mf\u001b[0m\u001b[0;34m,\u001b[0m\u001b[0;34m\u001b[0m\u001b[0;34m\u001b[0m\u001b[0m\n\u001b[1;32m   1737\u001b[0m                 \u001b[0mmode\u001b[0m\u001b[0;34m,\u001b[0m\u001b[0;34m\u001b[0m\u001b[0;34m\u001b[0m\u001b[0m\n",
            "\u001b[0;32m/usr/local/lib/python3.10/dist-packages/pandas/io/common.py\u001b[0m in \u001b[0;36mget_handle\u001b[0;34m(path_or_buf, mode, encoding, compression, memory_map, is_text, errors, storage_options)\u001b[0m\n\u001b[1;32m    854\u001b[0m         \u001b[0;32mif\u001b[0m \u001b[0mioargs\u001b[0m\u001b[0;34m.\u001b[0m\u001b[0mencoding\u001b[0m \u001b[0;32mand\u001b[0m \u001b[0;34m\"b\"\u001b[0m \u001b[0;32mnot\u001b[0m \u001b[0;32min\u001b[0m \u001b[0mioargs\u001b[0m\u001b[0;34m.\u001b[0m\u001b[0mmode\u001b[0m\u001b[0;34m:\u001b[0m\u001b[0;34m\u001b[0m\u001b[0;34m\u001b[0m\u001b[0m\n\u001b[1;32m    855\u001b[0m             \u001b[0;31m# Encoding\u001b[0m\u001b[0;34m\u001b[0m\u001b[0;34m\u001b[0m\u001b[0m\n\u001b[0;32m--> 856\u001b[0;31m             handle = open(\n\u001b[0m\u001b[1;32m    857\u001b[0m                 \u001b[0mhandle\u001b[0m\u001b[0;34m,\u001b[0m\u001b[0;34m\u001b[0m\u001b[0;34m\u001b[0m\u001b[0m\n\u001b[1;32m    858\u001b[0m                 \u001b[0mioargs\u001b[0m\u001b[0;34m.\u001b[0m\u001b[0mmode\u001b[0m\u001b[0;34m,\u001b[0m\u001b[0;34m\u001b[0m\u001b[0;34m\u001b[0m\u001b[0m\n",
            "\u001b[0;31mFileNotFoundError\u001b[0m: [Errno 2] No such file or directory: '/content/drive/MyDrive/602-project/rawdata/Arcadia.csv'"
          ]
        }
      ],
      "source": [
        "# import sales data from redfin\n",
        "data = pd.DataFrame()\n",
        "for i in ['Arcadia', 'El Monte', 'Rowland Heights', 'Walnut']:\n",
        "    one = pd.read_csv(r'/content/drive/MyDrive/602-project/rawdata/{}.csv'.format(i))\n",
        "    one = one[one['CITY'] == i]\n",
        "    data = data.append(one)\n",
        "\n",
        "data.rename(columns = {'URL (SEE http://www.redfin.com/buy-a-home/comparative-market-analysis FOR INFO ON PRICING)':'URL'}, inplace = True)\n",
        "data = data[~data['CITY'].isnull()]\n",
        "data = data[data['CITY'].isin(['Arcadia', 'El Monte', 'Walnut', 'Rowland Heights'])]\n",
        "data = data[data['PROPERTY TYPE'].str.contains('Single|Condo|Townhouse')]\n",
        "data = data[~data['SOLD DATE'].isnull()]\n",
        "data.rename(columns = {'ZIP OR POSTAL CODE': 'ZIP',\n",
        "                          'HOA/MONTH': 'HOA',\n",
        "                          'PROPERTY TYPE': 'PROPERTY_TYPE',\n",
        "                          'SQUARE FEET': 'SQUARE_FEET',\n",
        "                          'LOT SIZE': 'LOT_SIZE'\n",
        "                          }, inplace = True)\n"
      ]
    },
    {
      "cell_type": "markdown",
      "source": [
        "Clean Redfin Data to proper data types"
      ],
      "metadata": {
        "id": "YoUcZjG5vUwz"
      }
    },
    {
      "cell_type": "code",
      "execution_count": null,
      "metadata": {
        "colab": {
          "base_uri": "https://localhost:8080/",
          "height": 512
        },
        "id": "IP0wOFE1j5AS",
        "outputId": "6774f794-3d81-4914-c0b9-cf39e810c23c"
      },
      "outputs": [
        {
          "output_type": "error",
          "ename": "KeyError",
          "evalue": "ignored",
          "traceback": [
            "\u001b[0;31m---------------------------------------------------------------------------\u001b[0m",
            "\u001b[0;31mKeyError\u001b[0m                                  Traceback (most recent call last)",
            "\u001b[0;32m/usr/local/lib/python3.10/dist-packages/pandas/core/indexes/base.py\u001b[0m in \u001b[0;36mget_loc\u001b[0;34m(self, key, method, tolerance)\u001b[0m\n\u001b[1;32m   3801\u001b[0m             \u001b[0;32mtry\u001b[0m\u001b[0;34m:\u001b[0m\u001b[0;34m\u001b[0m\u001b[0;34m\u001b[0m\u001b[0m\n\u001b[0;32m-> 3802\u001b[0;31m                 \u001b[0;32mreturn\u001b[0m \u001b[0mself\u001b[0m\u001b[0;34m.\u001b[0m\u001b[0m_engine\u001b[0m\u001b[0;34m.\u001b[0m\u001b[0mget_loc\u001b[0m\u001b[0;34m(\u001b[0m\u001b[0mcasted_key\u001b[0m\u001b[0;34m)\u001b[0m\u001b[0;34m\u001b[0m\u001b[0;34m\u001b[0m\u001b[0m\n\u001b[0m\u001b[1;32m   3803\u001b[0m             \u001b[0;32mexcept\u001b[0m \u001b[0mKeyError\u001b[0m \u001b[0;32mas\u001b[0m \u001b[0merr\u001b[0m\u001b[0;34m:\u001b[0m\u001b[0;34m\u001b[0m\u001b[0;34m\u001b[0m\u001b[0m\n",
            "\u001b[0;32m/usr/local/lib/python3.10/dist-packages/pandas/_libs/index.pyx\u001b[0m in \u001b[0;36mpandas._libs.index.IndexEngine.get_loc\u001b[0;34m()\u001b[0m\n",
            "\u001b[0;32m/usr/local/lib/python3.10/dist-packages/pandas/_libs/index.pyx\u001b[0m in \u001b[0;36mpandas._libs.index.IndexEngine.get_loc\u001b[0;34m()\u001b[0m\n",
            "\u001b[0;32mpandas/_libs/hashtable_class_helper.pxi\u001b[0m in \u001b[0;36mpandas._libs.hashtable.PyObjectHashTable.get_item\u001b[0;34m()\u001b[0m\n",
            "\u001b[0;32mpandas/_libs/hashtable_class_helper.pxi\u001b[0m in \u001b[0;36mpandas._libs.hashtable.PyObjectHashTable.get_item\u001b[0;34m()\u001b[0m\n",
            "\u001b[0;31mKeyError\u001b[0m: 'PRICE'",
            "\nThe above exception was the direct cause of the following exception:\n",
            "\u001b[0;31mKeyError\u001b[0m                                  Traceback (most recent call last)",
            "\u001b[0;32m<ipython-input-40-816a88d6bfb3>\u001b[0m in \u001b[0;36m<cell line: 3>\u001b[0;34m()\u001b[0m\n\u001b[1;32m      1\u001b[0m \u001b[0;31m# start cleaning redfine data\u001b[0m\u001b[0;34m\u001b[0m\u001b[0;34m\u001b[0m\u001b[0m\n\u001b[1;32m      2\u001b[0m \u001b[0;31m# PRICE: Y\u001b[0m\u001b[0;34m\u001b[0m\u001b[0;34m\u001b[0m\u001b[0m\n\u001b[0;32m----> 3\u001b[0;31m \u001b[0mdata\u001b[0m \u001b[0;34m=\u001b[0m \u001b[0mdata\u001b[0m\u001b[0;34m[\u001b[0m\u001b[0;34m~\u001b[0m\u001b[0mdata\u001b[0m\u001b[0;34m[\u001b[0m\u001b[0;34m'PRICE'\u001b[0m\u001b[0;34m]\u001b[0m\u001b[0;34m.\u001b[0m\u001b[0misnull\u001b[0m\u001b[0;34m(\u001b[0m\u001b[0;34m)\u001b[0m\u001b[0;34m]\u001b[0m\u001b[0;34m\u001b[0m\u001b[0;34m\u001b[0m\u001b[0m\n\u001b[0m\u001b[1;32m      4\u001b[0m \u001b[0mdata\u001b[0m\u001b[0;34m[\u001b[0m\u001b[0;34m'PRICE'\u001b[0m\u001b[0;34m]\u001b[0m \u001b[0;34m=\u001b[0m \u001b[0mdata\u001b[0m\u001b[0;34m[\u001b[0m\u001b[0;34m'PRICE'\u001b[0m\u001b[0;34m]\u001b[0m\u001b[0;34m.\u001b[0m\u001b[0mastype\u001b[0m\u001b[0;34m(\u001b[0m\u001b[0;34m'int'\u001b[0m\u001b[0;34m)\u001b[0m\u001b[0;34m\u001b[0m\u001b[0;34m\u001b[0m\u001b[0m\n\u001b[1;32m      5\u001b[0m \u001b[0;34m\u001b[0m\u001b[0m\n",
            "\u001b[0;32m/usr/local/lib/python3.10/dist-packages/pandas/core/frame.py\u001b[0m in \u001b[0;36m__getitem__\u001b[0;34m(self, key)\u001b[0m\n\u001b[1;32m   3805\u001b[0m             \u001b[0;32mif\u001b[0m \u001b[0mself\u001b[0m\u001b[0;34m.\u001b[0m\u001b[0mcolumns\u001b[0m\u001b[0;34m.\u001b[0m\u001b[0mnlevels\u001b[0m \u001b[0;34m>\u001b[0m \u001b[0;36m1\u001b[0m\u001b[0;34m:\u001b[0m\u001b[0;34m\u001b[0m\u001b[0;34m\u001b[0m\u001b[0m\n\u001b[1;32m   3806\u001b[0m                 \u001b[0;32mreturn\u001b[0m \u001b[0mself\u001b[0m\u001b[0;34m.\u001b[0m\u001b[0m_getitem_multilevel\u001b[0m\u001b[0;34m(\u001b[0m\u001b[0mkey\u001b[0m\u001b[0;34m)\u001b[0m\u001b[0;34m\u001b[0m\u001b[0;34m\u001b[0m\u001b[0m\n\u001b[0;32m-> 3807\u001b[0;31m             \u001b[0mindexer\u001b[0m \u001b[0;34m=\u001b[0m \u001b[0mself\u001b[0m\u001b[0;34m.\u001b[0m\u001b[0mcolumns\u001b[0m\u001b[0;34m.\u001b[0m\u001b[0mget_loc\u001b[0m\u001b[0;34m(\u001b[0m\u001b[0mkey\u001b[0m\u001b[0;34m)\u001b[0m\u001b[0;34m\u001b[0m\u001b[0;34m\u001b[0m\u001b[0m\n\u001b[0m\u001b[1;32m   3808\u001b[0m             \u001b[0;32mif\u001b[0m \u001b[0mis_integer\u001b[0m\u001b[0;34m(\u001b[0m\u001b[0mindexer\u001b[0m\u001b[0;34m)\u001b[0m\u001b[0;34m:\u001b[0m\u001b[0;34m\u001b[0m\u001b[0;34m\u001b[0m\u001b[0m\n\u001b[1;32m   3809\u001b[0m                 \u001b[0mindexer\u001b[0m \u001b[0;34m=\u001b[0m \u001b[0;34m[\u001b[0m\u001b[0mindexer\u001b[0m\u001b[0;34m]\u001b[0m\u001b[0;34m\u001b[0m\u001b[0;34m\u001b[0m\u001b[0m\n",
            "\u001b[0;32m/usr/local/lib/python3.10/dist-packages/pandas/core/indexes/base.py\u001b[0m in \u001b[0;36mget_loc\u001b[0;34m(self, key, method, tolerance)\u001b[0m\n\u001b[1;32m   3802\u001b[0m                 \u001b[0;32mreturn\u001b[0m \u001b[0mself\u001b[0m\u001b[0;34m.\u001b[0m\u001b[0m_engine\u001b[0m\u001b[0;34m.\u001b[0m\u001b[0mget_loc\u001b[0m\u001b[0;34m(\u001b[0m\u001b[0mcasted_key\u001b[0m\u001b[0;34m)\u001b[0m\u001b[0;34m\u001b[0m\u001b[0;34m\u001b[0m\u001b[0m\n\u001b[1;32m   3803\u001b[0m             \u001b[0;32mexcept\u001b[0m \u001b[0mKeyError\u001b[0m \u001b[0;32mas\u001b[0m \u001b[0merr\u001b[0m\u001b[0;34m:\u001b[0m\u001b[0;34m\u001b[0m\u001b[0;34m\u001b[0m\u001b[0m\n\u001b[0;32m-> 3804\u001b[0;31m                 \u001b[0;32mraise\u001b[0m \u001b[0mKeyError\u001b[0m\u001b[0;34m(\u001b[0m\u001b[0mkey\u001b[0m\u001b[0;34m)\u001b[0m \u001b[0;32mfrom\u001b[0m \u001b[0merr\u001b[0m\u001b[0;34m\u001b[0m\u001b[0;34m\u001b[0m\u001b[0m\n\u001b[0m\u001b[1;32m   3805\u001b[0m             \u001b[0;32mexcept\u001b[0m \u001b[0mTypeError\u001b[0m\u001b[0;34m:\u001b[0m\u001b[0;34m\u001b[0m\u001b[0;34m\u001b[0m\u001b[0m\n\u001b[1;32m   3806\u001b[0m                 \u001b[0;31m# If we have a listlike key, _check_indexing_error will raise\u001b[0m\u001b[0;34m\u001b[0m\u001b[0;34m\u001b[0m\u001b[0m\n",
            "\u001b[0;31mKeyError\u001b[0m: 'PRICE'"
          ]
        }
      ],
      "source": [
        "# start cleaning redfine data\n",
        "# PRICE: Y\n",
        "data = data[~data['PRICE'].isnull()]\n",
        "data['PRICE'] = data['PRICE'].astype('int')\n",
        "\n",
        "# SOLD DATE: month\n",
        "data['SOLD DATE2'] = pd.to_datetime(data['SOLD DATE'], format='%B-%d-%Y')\n",
        "data['year'] = pd.DatetimeIndex(data['SOLD DATE2']).year\n",
        "data['mth'] = pd.DatetimeIndex(data['SOLD DATE2']).month\n",
        "data['month'] = data.apply(lambda x: date(int(x['year']), int(x['mth']), 1), axis = 1)\n",
        "\n",
        "# YEAR BUILT: age\n",
        "# age should be the age on the sold date\n",
        "data['age'] = data['year'] - data['YEAR BUILT']\n",
        "\n",
        "# HOA/MONTH: if nan, set it to be $0.01\n",
        "data['HOA'] = data.apply(lambda x: 0.01 if (np.isnan(x['HOA']) & bool(re.findall('Single', x['PROPERTY_TYPE'])))  else  x['HOA'], axis =1)\n",
        "\n",
        "# LOT SIZE: change LOT SIZE to be  SQUARE FEET for non-single house\n",
        "data['LOT_SIZE'] = data.apply(lambda x: x['LOT_SIZE'] if re.findall('Single', x['PROPERTY_TYPE']) else  x['SQUARE_FEET']    , axis =1)\n",
        "\n",
        "# ZIP\n",
        "data = data[~data['ZIP'].isnull()]\n",
        "data['ZIP'] = data['ZIP'].astype('int')\n",
        "zip_keep = data['ZIP'].value_counts()\n",
        "zip_keep = zip_keep[zip_keep/len(data) > 0.01].index\n",
        "data = data[data['ZIP'].isin(zip_keep)]\n",
        "\n",
        "data['ZIP'].value_counts(dropna = False)\n",
        "\n",
        "keep_var = ['PRICE', 'PROPERTY_TYPE', 'CITY', 'ZIP', 'BEDS', 'BATHS', 'SQUARE_FEET', 'LOT_SIZE', 'age', 'HOA', 'year', 'mth', 'month']\n",
        "\n",
        "data = data[keep_var]\n",
        "\n",
        "df = data.merge(mort_rate_30yrs, on = 'month', how = 'left')\n",
        "df = df.merge(la_hpi, on = 'month', how = 'left')\n",
        "df.columns = [i.lower()  for i in df.columns]\n",
        "df.head()"
      ]
    },
    {
      "cell_type": "code",
      "execution_count": null,
      "metadata": {
        "colab": {
          "base_uri": "https://localhost:8080/",
          "height": 390
        },
        "id": "DM5OL4InnSzh",
        "outputId": "29ebd7a6-0026-4cc8-ae4b-70ad08422bea"
      },
      "outputs": [
        {
          "output_type": "error",
          "ename": "KeyError",
          "evalue": "ignored",
          "traceback": [
            "\u001b[0;31m---------------------------------------------------------------------------\u001b[0m",
            "\u001b[0;31mKeyError\u001b[0m                                  Traceback (most recent call last)",
            "\u001b[0;32m<ipython-input-25-63dd720f937c>\u001b[0m in \u001b[0;36m<cell line: 2>\u001b[0;34m()\u001b[0m\n\u001b[1;32m      1\u001b[0m \u001b[0;31m# vectorize variables\u001b[0m\u001b[0;34m\u001b[0m\u001b[0;34m\u001b[0m\u001b[0m\n\u001b[0;32m----> 2\u001b[0;31m \u001b[0mdf\u001b[0m \u001b[0;34m=\u001b[0m \u001b[0mpd\u001b[0m\u001b[0;34m.\u001b[0m\u001b[0mget_dummies\u001b[0m\u001b[0;34m(\u001b[0m\u001b[0mdf\u001b[0m\u001b[0;34m,\u001b[0m \u001b[0mcolumns\u001b[0m \u001b[0;34m=\u001b[0m \u001b[0;34m[\u001b[0m\u001b[0;34m'property_type'\u001b[0m\u001b[0;34m,\u001b[0m\u001b[0;34m'zip'\u001b[0m\u001b[0;34m,\u001b[0m \u001b[0;34m'mth'\u001b[0m\u001b[0;34m,\u001b[0m \u001b[0;34m'city'\u001b[0m\u001b[0;34m]\u001b[0m\u001b[0;34m)\u001b[0m\u001b[0;34m\u001b[0m\u001b[0;34m\u001b[0m\u001b[0m\n\u001b[0m\u001b[1;32m      3\u001b[0m \u001b[0;34m\u001b[0m\u001b[0m\n\u001b[1;32m      4\u001b[0m \u001b[0mX\u001b[0m \u001b[0;34m=\u001b[0m \u001b[0mdf\u001b[0m\u001b[0;34m.\u001b[0m\u001b[0mdrop\u001b[0m\u001b[0;34m(\u001b[0m\u001b[0mcolumns\u001b[0m \u001b[0;34m=\u001b[0m \u001b[0;34m[\u001b[0m\u001b[0;34m'price'\u001b[0m\u001b[0;34m,\u001b[0m \u001b[0;34m'year'\u001b[0m\u001b[0;34m,\u001b[0m \u001b[0;34m'month'\u001b[0m\u001b[0;34m]\u001b[0m\u001b[0;34m)\u001b[0m\u001b[0;34m\u001b[0m\u001b[0;34m\u001b[0m\u001b[0m\n\u001b[1;32m      5\u001b[0m \u001b[0my\u001b[0m \u001b[0;34m=\u001b[0m \u001b[0mdf\u001b[0m\u001b[0;34m[\u001b[0m\u001b[0;34m'price'\u001b[0m\u001b[0;34m]\u001b[0m\u001b[0;34m\u001b[0m\u001b[0;34m\u001b[0m\u001b[0m\n",
            "\u001b[0;32m/usr/local/lib/python3.10/dist-packages/pandas/core/reshape/encoding.py\u001b[0m in \u001b[0;36mget_dummies\u001b[0;34m(data, prefix, prefix_sep, dummy_na, columns, sparse, drop_first, dtype)\u001b[0m\n\u001b[1;32m    144\u001b[0m             \u001b[0;32mraise\u001b[0m \u001b[0mTypeError\u001b[0m\u001b[0;34m(\u001b[0m\u001b[0;34m\"Input must be a list-like for parameter `columns`\"\u001b[0m\u001b[0;34m)\u001b[0m\u001b[0;34m\u001b[0m\u001b[0;34m\u001b[0m\u001b[0m\n\u001b[1;32m    145\u001b[0m         \u001b[0;32melse\u001b[0m\u001b[0;34m:\u001b[0m\u001b[0;34m\u001b[0m\u001b[0;34m\u001b[0m\u001b[0m\n\u001b[0;32m--> 146\u001b[0;31m             \u001b[0mdata_to_encode\u001b[0m \u001b[0;34m=\u001b[0m \u001b[0mdata\u001b[0m\u001b[0;34m[\u001b[0m\u001b[0mcolumns\u001b[0m\u001b[0;34m]\u001b[0m\u001b[0;34m\u001b[0m\u001b[0;34m\u001b[0m\u001b[0m\n\u001b[0m\u001b[1;32m    147\u001b[0m \u001b[0;34m\u001b[0m\u001b[0m\n\u001b[1;32m    148\u001b[0m         \u001b[0;31m# validate prefixes and separator to avoid silently dropping cols\u001b[0m\u001b[0;34m\u001b[0m\u001b[0;34m\u001b[0m\u001b[0m\n",
            "\u001b[0;32m/usr/local/lib/python3.10/dist-packages/pandas/core/frame.py\u001b[0m in \u001b[0;36m__getitem__\u001b[0;34m(self, key)\u001b[0m\n\u001b[1;32m   3811\u001b[0m             \u001b[0;32mif\u001b[0m \u001b[0mis_iterator\u001b[0m\u001b[0;34m(\u001b[0m\u001b[0mkey\u001b[0m\u001b[0;34m)\u001b[0m\u001b[0;34m:\u001b[0m\u001b[0;34m\u001b[0m\u001b[0;34m\u001b[0m\u001b[0m\n\u001b[1;32m   3812\u001b[0m                 \u001b[0mkey\u001b[0m \u001b[0;34m=\u001b[0m \u001b[0mlist\u001b[0m\u001b[0;34m(\u001b[0m\u001b[0mkey\u001b[0m\u001b[0;34m)\u001b[0m\u001b[0;34m\u001b[0m\u001b[0;34m\u001b[0m\u001b[0m\n\u001b[0;32m-> 3813\u001b[0;31m             \u001b[0mindexer\u001b[0m \u001b[0;34m=\u001b[0m \u001b[0mself\u001b[0m\u001b[0;34m.\u001b[0m\u001b[0mcolumns\u001b[0m\u001b[0;34m.\u001b[0m\u001b[0m_get_indexer_strict\u001b[0m\u001b[0;34m(\u001b[0m\u001b[0mkey\u001b[0m\u001b[0;34m,\u001b[0m \u001b[0;34m\"columns\"\u001b[0m\u001b[0;34m)\u001b[0m\u001b[0;34m[\u001b[0m\u001b[0;36m1\u001b[0m\u001b[0;34m]\u001b[0m\u001b[0;34m\u001b[0m\u001b[0;34m\u001b[0m\u001b[0m\n\u001b[0m\u001b[1;32m   3814\u001b[0m \u001b[0;34m\u001b[0m\u001b[0m\n\u001b[1;32m   3815\u001b[0m         \u001b[0;31m# take() does not accept boolean indexers\u001b[0m\u001b[0;34m\u001b[0m\u001b[0;34m\u001b[0m\u001b[0m\n",
            "\u001b[0;32m/usr/local/lib/python3.10/dist-packages/pandas/core/indexes/base.py\u001b[0m in \u001b[0;36m_get_indexer_strict\u001b[0;34m(self, key, axis_name)\u001b[0m\n\u001b[1;32m   6068\u001b[0m             \u001b[0mkeyarr\u001b[0m\u001b[0;34m,\u001b[0m \u001b[0mindexer\u001b[0m\u001b[0;34m,\u001b[0m \u001b[0mnew_indexer\u001b[0m \u001b[0;34m=\u001b[0m \u001b[0mself\u001b[0m\u001b[0;34m.\u001b[0m\u001b[0m_reindex_non_unique\u001b[0m\u001b[0;34m(\u001b[0m\u001b[0mkeyarr\u001b[0m\u001b[0;34m)\u001b[0m\u001b[0;34m\u001b[0m\u001b[0;34m\u001b[0m\u001b[0m\n\u001b[1;32m   6069\u001b[0m \u001b[0;34m\u001b[0m\u001b[0m\n\u001b[0;32m-> 6070\u001b[0;31m         \u001b[0mself\u001b[0m\u001b[0;34m.\u001b[0m\u001b[0m_raise_if_missing\u001b[0m\u001b[0;34m(\u001b[0m\u001b[0mkeyarr\u001b[0m\u001b[0;34m,\u001b[0m \u001b[0mindexer\u001b[0m\u001b[0;34m,\u001b[0m \u001b[0maxis_name\u001b[0m\u001b[0;34m)\u001b[0m\u001b[0;34m\u001b[0m\u001b[0;34m\u001b[0m\u001b[0m\n\u001b[0m\u001b[1;32m   6071\u001b[0m \u001b[0;34m\u001b[0m\u001b[0m\n\u001b[1;32m   6072\u001b[0m         \u001b[0mkeyarr\u001b[0m \u001b[0;34m=\u001b[0m \u001b[0mself\u001b[0m\u001b[0;34m.\u001b[0m\u001b[0mtake\u001b[0m\u001b[0;34m(\u001b[0m\u001b[0mindexer\u001b[0m\u001b[0;34m)\u001b[0m\u001b[0;34m\u001b[0m\u001b[0;34m\u001b[0m\u001b[0m\n",
            "\u001b[0;32m/usr/local/lib/python3.10/dist-packages/pandas/core/indexes/base.py\u001b[0m in \u001b[0;36m_raise_if_missing\u001b[0;34m(self, key, indexer, axis_name)\u001b[0m\n\u001b[1;32m   6128\u001b[0m                 \u001b[0;32mif\u001b[0m \u001b[0muse_interval_msg\u001b[0m\u001b[0;34m:\u001b[0m\u001b[0;34m\u001b[0m\u001b[0;34m\u001b[0m\u001b[0m\n\u001b[1;32m   6129\u001b[0m                     \u001b[0mkey\u001b[0m \u001b[0;34m=\u001b[0m \u001b[0mlist\u001b[0m\u001b[0;34m(\u001b[0m\u001b[0mkey\u001b[0m\u001b[0;34m)\u001b[0m\u001b[0;34m\u001b[0m\u001b[0;34m\u001b[0m\u001b[0m\n\u001b[0;32m-> 6130\u001b[0;31m                 \u001b[0;32mraise\u001b[0m \u001b[0mKeyError\u001b[0m\u001b[0;34m(\u001b[0m\u001b[0;34mf\"None of [{key}] are in the [{axis_name}]\"\u001b[0m\u001b[0;34m)\u001b[0m\u001b[0;34m\u001b[0m\u001b[0;34m\u001b[0m\u001b[0m\n\u001b[0m\u001b[1;32m   6131\u001b[0m \u001b[0;34m\u001b[0m\u001b[0m\n\u001b[1;32m   6132\u001b[0m             \u001b[0mnot_found\u001b[0m \u001b[0;34m=\u001b[0m \u001b[0mlist\u001b[0m\u001b[0;34m(\u001b[0m\u001b[0mensure_index\u001b[0m\u001b[0;34m(\u001b[0m\u001b[0mkey\u001b[0m\u001b[0;34m)\u001b[0m\u001b[0;34m[\u001b[0m\u001b[0mmissing_mask\u001b[0m\u001b[0;34m.\u001b[0m\u001b[0mnonzero\u001b[0m\u001b[0;34m(\u001b[0m\u001b[0;34m)\u001b[0m\u001b[0;34m[\u001b[0m\u001b[0;36m0\u001b[0m\u001b[0;34m]\u001b[0m\u001b[0;34m]\u001b[0m\u001b[0;34m.\u001b[0m\u001b[0munique\u001b[0m\u001b[0;34m(\u001b[0m\u001b[0;34m)\u001b[0m\u001b[0;34m)\u001b[0m\u001b[0;34m\u001b[0m\u001b[0;34m\u001b[0m\u001b[0m\n",
            "\u001b[0;31mKeyError\u001b[0m: \"None of [Index(['property_type', 'zip', 'mth', 'city'], dtype='object')] are in the [columns]\""
          ]
        }
      ],
      "source": [
        "# vectorize variables\n",
        "df = pd.get_dummies(df, columns = ['property_type','zip', 'mth', 'city'])\n",
        "\n",
        "X = df.drop(columns = ['price', 'year', 'month'])\n",
        "y = df['price']\n",
        "\n",
        "# split data into training and testing\n",
        "X_train,X_val,y_train,y_val = train_test_split(X,y,test_size=0.2,random_state=0)\n",
        "X_train.shape, X_val.shape"
      ]
    },
    {
      "cell_type": "markdown",
      "metadata": {
        "id": "Cw79DH7xnEz2"
      },
      "source": [
        "## **XGBoost Model**"
      ]
    },
    {
      "cell_type": "code",
      "execution_count": null,
      "metadata": {
        "id": "nVhhbRvUnEcM"
      },
      "outputs": [],
      "source": [
        "# need to create function to return accuracy of GridSearchCV\n",
        "def tuning_para(alg, tuning_para):\n",
        "    gsearch = GridSearchCV(estimator=alg,\n",
        "                           param_grid = tuning_para,\n",
        "                           scoring=make_scorer(mean_squared_error, squared=False, greater_is_better=False),\n",
        "                           #scoring=make_scorer(r2_score),\n",
        "                           n_jobs=-1,\n",
        "                           cv=5,\n",
        "                           verbose = 2)\n",
        "\n",
        "    gsearch.fit(X_train, y_train)\n",
        "    print(gsearch.best_estimator_.get_params())\n",
        "    print('')\n",
        "    for i, j in zip(gsearch.cv_results_['params'], gsearch.cv_results_['mean_test_score']):\n",
        "        print(i, int(j) if abs(j)>1 else j)\n",
        "    print('')\n",
        "    # predict test data\n",
        "    predictions = gsearch.predict(X_val)\n",
        "\n",
        "    print('Mean-Absolute-Error(MAE): {}'.format(mean_absolute_error(y_val, predictions)))\n",
        "    print('Root-Mean-Squared-Error(RMSE): {}'.format(mean_squared_error(y_val, predictions, squared = False)))\n",
        "    print('Mean absolute percentage error (MAPE): {}'.format(mean_absolute_percentage_error(y_val, predictions)))\n",
        "    print('R2: {}'.format(r2_score(y_val, predictions)))\n",
        "    print([f'{key}: {gsearch.best_estimator_.get_params().get(key)}' for key in tuning_para.keys()])\n",
        "\n",
        "    return gsearch"
      ]
    },
    {
      "cell_type": "code",
      "execution_count": null,
      "metadata": {
        "colab": {
          "base_uri": "https://localhost:8080/",
          "height": 331
        },
        "id": "ckdNMt8Fn2UR",
        "outputId": "71e32c4d-478e-4f0d-f2b3-b09ae792e77e"
      },
      "outputs": [
        {
          "output_type": "error",
          "ename": "NameError",
          "evalue": "ignored",
          "traceback": [
            "\u001b[0;31m---------------------------------------------------------------------------\u001b[0m",
            "\u001b[0;31mNameError\u001b[0m                                 Traceback (most recent call last)",
            "\u001b[0;32m<ipython-input-27-a861a980378a>\u001b[0m in \u001b[0;36m<cell line: 3>\u001b[0;34m()\u001b[0m\n\u001b[1;32m      1\u001b[0m \u001b[0mpara_test\u001b[0m \u001b[0;34m=\u001b[0m \u001b[0;34m{\u001b[0m\u001b[0;34m}\u001b[0m\u001b[0;34m\u001b[0m\u001b[0;34m\u001b[0m\u001b[0m\n\u001b[1;32m      2\u001b[0m \u001b[0mxgb_model\u001b[0m \u001b[0;34m=\u001b[0m \u001b[0mXGBRegressor\u001b[0m\u001b[0;34m(\u001b[0m\u001b[0mobjective\u001b[0m \u001b[0;34m=\u001b[0m \u001b[0;34m'reg:squarederror'\u001b[0m\u001b[0;34m,\u001b[0m \u001b[0mrandom_state\u001b[0m \u001b[0;34m=\u001b[0m\u001b[0;36m27\u001b[0m\u001b[0;34m)\u001b[0m\u001b[0;34m\u001b[0m\u001b[0;34m\u001b[0m\u001b[0m\n\u001b[0;32m----> 3\u001b[0;31m \u001b[0mxgb_model_deploy\u001b[0m \u001b[0;34m=\u001b[0m \u001b[0mtuning_para\u001b[0m\u001b[0;34m(\u001b[0m\u001b[0mxgb_model\u001b[0m\u001b[0;34m,\u001b[0m \u001b[0mpara_test\u001b[0m\u001b[0;34m)\u001b[0m\u001b[0;34m\u001b[0m\u001b[0;34m\u001b[0m\u001b[0m\n\u001b[0m",
            "\u001b[0;32m<ipython-input-26-be2426e3f118>\u001b[0m in \u001b[0;36mtuning_para\u001b[0;34m(alg, tuning_para)\u001b[0m\n\u001b[1;32m      9\u001b[0m                            verbose = 2)\n\u001b[1;32m     10\u001b[0m \u001b[0;34m\u001b[0m\u001b[0m\n\u001b[0;32m---> 11\u001b[0;31m     \u001b[0mgsearch\u001b[0m\u001b[0;34m.\u001b[0m\u001b[0mfit\u001b[0m\u001b[0;34m(\u001b[0m\u001b[0mX_train\u001b[0m\u001b[0;34m,\u001b[0m \u001b[0my_train\u001b[0m\u001b[0;34m)\u001b[0m\u001b[0;34m\u001b[0m\u001b[0;34m\u001b[0m\u001b[0m\n\u001b[0m\u001b[1;32m     12\u001b[0m     \u001b[0mprint\u001b[0m\u001b[0;34m(\u001b[0m\u001b[0mgsearch\u001b[0m\u001b[0;34m.\u001b[0m\u001b[0mbest_estimator_\u001b[0m\u001b[0;34m.\u001b[0m\u001b[0mget_params\u001b[0m\u001b[0;34m(\u001b[0m\u001b[0;34m)\u001b[0m\u001b[0;34m)\u001b[0m\u001b[0;34m\u001b[0m\u001b[0;34m\u001b[0m\u001b[0m\n\u001b[1;32m     13\u001b[0m     \u001b[0mprint\u001b[0m\u001b[0;34m(\u001b[0m\u001b[0;34m''\u001b[0m\u001b[0;34m)\u001b[0m\u001b[0;34m\u001b[0m\u001b[0;34m\u001b[0m\u001b[0m\n",
            "\u001b[0;31mNameError\u001b[0m: name 'X_train' is not defined"
          ]
        }
      ],
      "source": [
        "para_test = {}\n",
        "xgb_model = XGBRegressor(objective = 'reg:squarederror', random_state =27)\n",
        "xgb_model_deploy = tuning_para(xgb_model, para_test)"
      ]
    },
    {
      "cell_type": "markdown",
      "source": [
        "**Hupertuning Parameters for Final Model**"
      ],
      "metadata": {
        "id": "KQtVZhbMKlUS"
      }
    },
    {
      "cell_type": "code",
      "execution_count": null,
      "metadata": {
        "colab": {
          "base_uri": "https://localhost:8080/",
          "height": 331
        },
        "id": "UuJHzDNWnx8K",
        "outputId": "63dd4777-a1c2-4fff-bb4a-fbf54e434bcb"
      },
      "outputs": [
        {
          "output_type": "error",
          "ename": "NameError",
          "evalue": "ignored",
          "traceback": [
            "\u001b[0;31m---------------------------------------------------------------------------\u001b[0m",
            "\u001b[0;31mNameError\u001b[0m                                 Traceback (most recent call last)",
            "\u001b[0;32m<ipython-input-28-a8dbfefd9511>\u001b[0m in \u001b[0;36m<cell line: 5>\u001b[0;34m()\u001b[0m\n\u001b[1;32m      3\u001b[0m              'n_estimators':[100, 200, 300]}\n\u001b[1;32m      4\u001b[0m \u001b[0mxgb_model\u001b[0m \u001b[0;34m=\u001b[0m \u001b[0mXGBRegressor\u001b[0m\u001b[0;34m(\u001b[0m\u001b[0mobjective\u001b[0m \u001b[0;34m=\u001b[0m \u001b[0;34m'reg:squarederror'\u001b[0m\u001b[0;34m,\u001b[0m \u001b[0mrandom_state\u001b[0m \u001b[0;34m=\u001b[0m\u001b[0;36m27\u001b[0m\u001b[0;34m)\u001b[0m\u001b[0;34m\u001b[0m\u001b[0;34m\u001b[0m\u001b[0m\n\u001b[0;32m----> 5\u001b[0;31m \u001b[0mxgb_model_deploy\u001b[0m \u001b[0;34m=\u001b[0m \u001b[0mtuning_para\u001b[0m\u001b[0;34m(\u001b[0m\u001b[0mxgb_model\u001b[0m\u001b[0;34m,\u001b[0m \u001b[0mpara_test\u001b[0m\u001b[0;34m)\u001b[0m\u001b[0;34m\u001b[0m\u001b[0;34m\u001b[0m\u001b[0m\n\u001b[0m",
            "\u001b[0;32m<ipython-input-26-be2426e3f118>\u001b[0m in \u001b[0;36mtuning_para\u001b[0;34m(alg, tuning_para)\u001b[0m\n\u001b[1;32m      9\u001b[0m                            verbose = 2)\n\u001b[1;32m     10\u001b[0m \u001b[0;34m\u001b[0m\u001b[0m\n\u001b[0;32m---> 11\u001b[0;31m     \u001b[0mgsearch\u001b[0m\u001b[0;34m.\u001b[0m\u001b[0mfit\u001b[0m\u001b[0;34m(\u001b[0m\u001b[0mX_train\u001b[0m\u001b[0;34m,\u001b[0m \u001b[0my_train\u001b[0m\u001b[0;34m)\u001b[0m\u001b[0;34m\u001b[0m\u001b[0;34m\u001b[0m\u001b[0m\n\u001b[0m\u001b[1;32m     12\u001b[0m     \u001b[0mprint\u001b[0m\u001b[0;34m(\u001b[0m\u001b[0mgsearch\u001b[0m\u001b[0;34m.\u001b[0m\u001b[0mbest_estimator_\u001b[0m\u001b[0;34m.\u001b[0m\u001b[0mget_params\u001b[0m\u001b[0;34m(\u001b[0m\u001b[0;34m)\u001b[0m\u001b[0;34m)\u001b[0m\u001b[0;34m\u001b[0m\u001b[0;34m\u001b[0m\u001b[0m\n\u001b[1;32m     13\u001b[0m     \u001b[0mprint\u001b[0m\u001b[0;34m(\u001b[0m\u001b[0;34m''\u001b[0m\u001b[0;34m)\u001b[0m\u001b[0;34m\u001b[0m\u001b[0;34m\u001b[0m\u001b[0m\n",
            "\u001b[0;31mNameError\u001b[0m: name 'X_train' is not defined"
          ]
        }
      ],
      "source": [
        "# Test learning rate and n_estimator first\n",
        "para_test = {'learning_rate':[0.01, 0.05, 0.1, 0.2],\n",
        "             'n_estimators':[100, 200, 300]}\n",
        "xgb_model = XGBRegressor(objective = 'reg:squarederror', random_state =27)\n",
        "xgb_model_deploy = tuning_para(xgb_model, para_test)"
      ]
    },
    {
      "cell_type": "code",
      "execution_count": null,
      "metadata": {
        "colab": {
          "base_uri": "https://localhost:8080/"
        },
        "id": "7GXdXaxFnubP",
        "outputId": "6a97d7ff-0c06-4ee7-c533-02a0731d7236"
      },
      "outputs": [
        {
          "output_type": "stream",
          "name": "stdout",
          "text": [
            "Fitting 5 folds for each of 12 candidates, totalling 60 fits\n",
            "{'objective': 'reg:squarederror', 'base_score': None, 'booster': None, 'callbacks': None, 'colsample_bylevel': None, 'colsample_bynode': None, 'colsample_bytree': None, 'device': None, 'early_stopping_rounds': None, 'enable_categorical': False, 'eval_metric': None, 'feature_types': None, 'gamma': None, 'grow_policy': None, 'importance_type': None, 'interaction_constraints': None, 'learning_rate': 0.05, 'max_bin': None, 'max_cat_threshold': None, 'max_cat_to_onehot': None, 'max_delta_step': None, 'max_depth': 5, 'max_leaves': None, 'min_child_weight': 5, 'missing': nan, 'monotone_constraints': None, 'multi_strategy': None, 'n_estimators': 300, 'n_jobs': None, 'num_parallel_tree': None, 'random_state': 27, 'reg_alpha': None, 'reg_lambda': None, 'sampling_method': None, 'scale_pos_weight': None, 'subsample': None, 'tree_method': None, 'validate_parameters': None, 'verbosity': None}\n",
            "**************************************\n",
            "{'max_depth': 3, 'min_child_weight': 1} -244577\n",
            "{'max_depth': 3, 'min_child_weight': 3} -241666\n",
            "{'max_depth': 3, 'min_child_weight': 5} -242160\n",
            "{'max_depth': 5, 'min_child_weight': 1} -247198\n",
            "{'max_depth': 5, 'min_child_weight': 3} -242926\n",
            "{'max_depth': 5, 'min_child_weight': 5} -239776\n",
            "{'max_depth': 7, 'min_child_weight': 1} -264385\n",
            "{'max_depth': 7, 'min_child_weight': 3} -255019\n",
            "{'max_depth': 7, 'min_child_weight': 5} -248181\n",
            "{'max_depth': 9, 'min_child_weight': 1} -266890\n",
            "{'max_depth': 9, 'min_child_weight': 3} -257675\n",
            "{'max_depth': 9, 'min_child_weight': 5} -252895\n",
            "**************************************\n",
            "Mean-Absolute-Error(MAE): 99868.4322615607\n",
            "Root-Mean-Squared-Error(RMSE): 189058.95110659077\n",
            "Mean absolute percentage error (MAPE): 2.9380074933597933\n",
            "R2: 0.9478319520388319\n",
            "['max_depth: 5', 'min_child_weight: 5']\n",
            "**************************************\n"
          ]
        }
      ],
      "source": [
        "# Tune max_depth and min_child_weight\n",
        "para_test = {\n",
        " 'max_depth':range(3,10,2), # max depth of each tree\n",
        " 'min_child_weight':range(1,6,2) # cover\n",
        "}\n",
        "\n",
        "xgb_model = XGBRegressor(objective = 'reg:squarederror',\n",
        "                         random_state =27,\n",
        "                         learning_rate = 0.05,\n",
        "                         n_estimators = 300\n",
        "                         )\n",
        "xgb_model_deploy = tuning_para(xgb_model, para_test)"
      ]
    },
    {
      "cell_type": "code",
      "execution_count": null,
      "metadata": {
        "colab": {
          "base_uri": "https://localhost:8080/"
        },
        "id": "MkqPXpz1nquo",
        "outputId": "c5e2f158-1e4b-41c5-d070-78b9c9ea071c"
      },
      "outputs": [
        {
          "output_type": "stream",
          "name": "stdout",
          "text": [
            "Fitting 5 folds for each of 5 candidates, totalling 25 fits\n",
            "{'objective': 'reg:squarederror', 'base_score': None, 'booster': None, 'callbacks': None, 'colsample_bylevel': None, 'colsample_bynode': None, 'colsample_bytree': None, 'device': None, 'early_stopping_rounds': None, 'enable_categorical': False, 'eval_metric': None, 'feature_types': None, 'gamma': 0.0, 'grow_policy': None, 'importance_type': None, 'interaction_constraints': None, 'learning_rate': 0.05, 'max_bin': None, 'max_cat_threshold': None, 'max_cat_to_onehot': None, 'max_delta_step': None, 'max_depth': 5, 'max_leaves': None, 'min_child_weight': 5, 'missing': nan, 'monotone_constraints': None, 'multi_strategy': None, 'n_estimators': 300, 'n_jobs': None, 'num_parallel_tree': None, 'random_state': 27, 'reg_alpha': None, 'reg_lambda': None, 'sampling_method': None, 'scale_pos_weight': None, 'subsample': None, 'tree_method': None, 'validate_parameters': None, 'verbosity': None}\n",
            "**************************************\n",
            "{'gamma': 0.0} -239776\n",
            "{'gamma': 0.1} -239776\n",
            "{'gamma': 0.2} -239776\n",
            "{'gamma': 0.3} -239776\n",
            "{'gamma': 0.4} -239776\n",
            "**************************************\n",
            "Mean-Absolute-Error(MAE): 99868.4322615607\n",
            "Root-Mean-Squared-Error(RMSE): 189058.95110659077\n",
            "Mean absolute percentage error (MAPE): 2.9380074933597933\n",
            "R2: 0.9478319520388319\n",
            "['gamma: 0.0']\n",
            "**************************************\n"
          ]
        }
      ],
      "source": [
        "# Tune gamma\n",
        "para_test= {\n",
        "    'gamma':[i/10.0 for i in range(0,5)] # the min gain requried to split\n",
        "}\n",
        "xgb_model = XGBRegressor(objective = 'reg:squarederror',\n",
        "                         random_state =27,\n",
        "                         learning_rate = 0.05,\n",
        "                         n_estimators = 300,\n",
        "                         max_depth = 5,\n",
        "                         min_child_weight = 5\n",
        "                         )\n",
        "xgb_model_deploy = tuning_para(xgb_model, para_test)"
      ]
    },
    {
      "cell_type": "code",
      "execution_count": null,
      "metadata": {
        "colab": {
          "base_uri": "https://localhost:8080/"
        },
        "id": "pIMe5574nm8M",
        "outputId": "10756511-88fc-4832-bb52-0ec48a7feb2e"
      },
      "outputs": [
        {
          "output_type": "stream",
          "name": "stdout",
          "text": [
            "Fitting 5 folds for each of 16 candidates, totalling 80 fits\n",
            "{'objective': 'reg:squarederror', 'base_score': None, 'booster': None, 'callbacks': None, 'colsample_bylevel': None, 'colsample_bynode': None, 'colsample_bytree': 0.9, 'device': None, 'early_stopping_rounds': None, 'enable_categorical': False, 'eval_metric': None, 'feature_types': None, 'gamma': 0, 'grow_policy': None, 'importance_type': None, 'interaction_constraints': None, 'learning_rate': 0.05, 'max_bin': None, 'max_cat_threshold': None, 'max_cat_to_onehot': None, 'max_delta_step': None, 'max_depth': 5, 'max_leaves': None, 'min_child_weight': 5, 'missing': nan, 'monotone_constraints': None, 'multi_strategy': None, 'n_estimators': 300, 'n_jobs': None, 'num_parallel_tree': None, 'random_state': 27, 'reg_alpha': None, 'reg_lambda': None, 'sampling_method': None, 'scale_pos_weight': None, 'subsample': 0.6, 'tree_method': None, 'validate_parameters': None, 'verbosity': None}\n",
            "**************************************\n",
            "{'colsample_bytree': 0.6, 'subsample': 0.6} -234825\n",
            "{'colsample_bytree': 0.6, 'subsample': 0.7} -231313\n",
            "{'colsample_bytree': 0.6, 'subsample': 0.8} -232036\n",
            "{'colsample_bytree': 0.6, 'subsample': 0.9} -232180\n",
            "{'colsample_bytree': 0.7, 'subsample': 0.6} -232654\n",
            "{'colsample_bytree': 0.7, 'subsample': 0.7} -234847\n",
            "{'colsample_bytree': 0.7, 'subsample': 0.8} -231185\n",
            "{'colsample_bytree': 0.7, 'subsample': 0.9} -233191\n",
            "{'colsample_bytree': 0.8, 'subsample': 0.6} -229939\n",
            "{'colsample_bytree': 0.8, 'subsample': 0.7} -232223\n",
            "{'colsample_bytree': 0.8, 'subsample': 0.8} -232751\n",
            "{'colsample_bytree': 0.8, 'subsample': 0.9} -233868\n",
            "{'colsample_bytree': 0.9, 'subsample': 0.6} -227695\n",
            "{'colsample_bytree': 0.9, 'subsample': 0.7} -234274\n",
            "{'colsample_bytree': 0.9, 'subsample': 0.8} -231501\n",
            "{'colsample_bytree': 0.9, 'subsample': 0.9} -235432\n",
            "**************************************\n",
            "Mean-Absolute-Error(MAE): 96849.75197570448\n",
            "Root-Mean-Squared-Error(RMSE): 180093.67089382216\n",
            "Mean absolute percentage error (MAPE): 3.0249197914269828\n",
            "R2: 0.9526623167603889\n",
            "['subsample: 0.6', 'colsample_bytree: 0.9']\n",
            "**************************************\n"
          ]
        }
      ],
      "source": [
        "# Tune subsample and colsample_bytree\n",
        "para_test = {\n",
        " 'subsample':[i/10.0 for i in range(6,10)],  # number of samples allowed\n",
        " 'colsample_bytree':[i/10.0 for i in range(6,10)] # number of fields allowed in each tree\n",
        "}\n",
        "xgb_model = XGBRegressor(objective = 'reg:squarederror',\n",
        "                         random_state =27,\n",
        "                         learning_rate = 0.05,\n",
        "                         n_estimators = 300,\n",
        "                         max_depth = 5,\n",
        "                         min_child_weight = 5,\n",
        "                         gamma = 0\n",
        "                         )\n",
        "xgb_model_deploy = tuning_para(xgb_model, para_test)"
      ]
    },
    {
      "cell_type": "markdown",
      "source": [
        "**Train Final Model**"
      ],
      "metadata": {
        "id": "ek_ygfdxKqwG"
      }
    },
    {
      "cell_type": "code",
      "execution_count": null,
      "metadata": {
        "colab": {
          "base_uri": "https://localhost:8080/",
          "height": 1000
        },
        "id": "zXaoQvdqniPr",
        "outputId": "6167c10a-6293-4ad1-bcf8-3dd8733e5976"
      },
      "outputs": [
        {
          "output_type": "stream",
          "name": "stderr",
          "text": [
            "<ipython-input-37-830dfc3fc270>:13: FutureWarning: The frame.append method is deprecated and will be removed from pandas in a future version. Use pandas.concat instead.\n",
            "  xgb_model_deploy = xgb_model.fit(X_train.append(X_val), y_train.append(y_val))\n",
            "<ipython-input-37-830dfc3fc270>:13: FutureWarning: The series.append method is deprecated and will be removed from pandas in a future version. Use pandas.concat instead.\n",
            "  xgb_model_deploy = xgb_model.fit(X_train.append(X_val), y_train.append(y_val))\n",
            "<ipython-input-37-830dfc3fc270>:14: FutureWarning: The frame.append method is deprecated and will be removed from pandas in a future version. Use pandas.concat instead.\n",
            "  prediction  = xgb_model_deploy.predict(X_train.append(X_val))\n",
            "<ipython-input-37-830dfc3fc270>:16: FutureWarning: The series.append method is deprecated and will be removed from pandas in a future version. Use pandas.concat instead.\n",
            "  st_dev = (mean_squared_error(prediction, y_train.append(y_val)) ** 0.5 ).round(-3)\n"
          ]
        },
        {
          "output_type": "display_data",
          "data": {
            "text/plain": [
              "<Figure size 500x1500 with 1 Axes>"
            ],
            "image/png": "[encoded data removed]"
          },
          "metadata": {}
        }
      ],
      "source": [
        "# final model\n",
        "xgb_model = XGBRegressor(objective = 'reg:squarederror',\n",
        "                         random_state =27,\n",
        "                         learning_rate = 0.05,\n",
        "                         n_estimators = 300,\n",
        "                         max_depth = 5,\n",
        "                         min_child_weight = 5,\n",
        "                         gamma = 0,\n",
        "                         colsample_bytree = 0.9,\n",
        "                         subsample = 0.6\n",
        "                         )\n",
        "\n",
        "xgb_model_deploy = xgb_model.fit(X_train.append(X_val), y_train.append(y_val))\n",
        "prediction  = xgb_model_deploy.predict(X_train.append(X_val))\n",
        "\n",
        "st_dev = (mean_squared_error(prediction, y_train.append(y_val)) ** 0.5 ).round(-3)\n",
        "xgb_model_deploy.st_dev = st_dev\n",
        "\n",
        "with open(r'/content/drive/MyDrive/MSML602-FinalProject/xgb_model_deploy.pickle', 'wb') as f:\n",
        "    pickle.dump(xgb_model_deploy, f)\n",
        "\n",
        "plt.rcParams[\"figure.figsize\"] = (5,15)\n",
        "plot_importance(xgb_model_deploy)\n",
        "plt.show()"
      ]
    },
    {
      "cell_type": "markdown",
      "metadata": {
        "id": "t4ee1DlmsML_"
      },
      "source": [
        "## Run DASH App"
      ]
    },
    {
      "cell_type": "code",
      "execution_count": null,
      "metadata": {
        "id": "p94GaQAisPis",
        "colab": {
          "base_uri": "https://localhost:8080/"
        },
        "outputId": "ef000bc1-ce93-48ee-c6f4-79b09f6c713c"
      },
      "outputs": [
        {
          "output_type": "stream",
          "name": "stderr",
          "text": [
            "<ipython-input-39-630be2e5bca3>:2: UserWarning: \n",
            "The dash_core_components package is deprecated. Please replace\n",
            "`import dash_core_components as dcc` with `from dash import dcc`\n",
            "  import dash_core_components as dcc\n",
            "<ipython-input-39-630be2e5bca3>:3: UserWarning: \n",
            "The dash_html_components package is deprecated. Please replace\n",
            "`import dash_html_components as html` with `from dash import html`\n",
            "  import dash_html_components as html\n"
          ]
        }
      ],
      "source": [
        "import dash\n",
        "import dash_core_components as dcc\n",
        "import dash_html_components as html\n",
        "from dash.dependencies import Input, Output, State\n",
        "import dash_bootstrap_components as dbc"
      ]
    },
    {
      "cell_type": "markdown",
      "source": [
        "Clean up Dataframe"
      ],
      "metadata": {
        "id": "MR7giADjvJra"
      }
    },
    {
      "cell_type": "code",
      "source": [
        "df = master.copy()\n",
        "df.sort_values(by=['location', 'month'], ignore_index=True, inplace=True)\n",
        "\n",
        "weights = np.array([0.05, 0.1, 0.15, 0.2, 0.25, 0.3])\n",
        "sum_weights = np.sum(weights)\n",
        "# compute weighted Moving average [need to move this part to scraping program]\n",
        "df['price_med_ma6'] = df.groupby(['location'])['price_med'].rolling(6).apply(lambda x: np.sum(weights*x) / sum_weights, raw=False).reset_index(drop = True).round(0)\n",
        "df['year'] = df.month.str.slice(0,4).astype(int)\n",
        "df['price_1yr_b4'] = df.groupby('location')['price_med_ma6'].shift(12)\n",
        "df['yty_per_diff'] = df.apply(lambda x: x['price_med_ma6']/ x['price_1yr_b4'] - 1 , axis =1)\n",
        "\n",
        "all_locations = df.location.unique()\n",
        "all_locations"
      ],
      "metadata": {
        "id": "ir20EKvEvJSI",
        "colab": {
          "base_uri": "https://localhost:8080/"
        },
        "outputId": "7de0b20b-06f6-491b-fea1-d24cbfd9de60"
      },
      "execution_count": null,
      "outputs": [
        {
          "output_type": "execute_result",
          "data": {
            "text/plain": [
              "array(['Arcadia', 'El Monte', 'Rowland Heights', 'Walnut'], dtype=object)"
            ]
          },
          "metadata": {},
          "execution_count": 11
        }
      ]
    },
    {
      "cell_type": "code",
      "source": [
        "external_stylesheets = [dbc.themes.BOOTSTRAP]\n",
        "app = dash.Dash( external_stylesheets=external_stylesheets)\n",
        "\n",
        "app.title = 'Housing Price Dashboard'\n",
        "server = app.server\n",
        "\n",
        "# load the ml model\n",
        "xgb_model_deploy = pickle.load(open('/content/drive/MyDrive/MSML602-FinalProject/xgb_model_deploy.pickle', 'rb'))\n",
        "\n",
        "prediction_col1 =  dbc.Col([\n",
        "                html.Br(),\n",
        "                dbc.Row([html.H3(children='Predict Housing Price')]),\n",
        "                dbc.Row([\n",
        "                    dbc.Col(html.Label(children='City and Zip:'), width={\"order\": \"first\"}, style = {'padding': '15px 0px 0px 0px'}),\n",
        "                    dcc.Dropdown(\n",
        "                        id='city_zip',\n",
        "                        options=[\n",
        "                            {'label': 'Arcadia - 91006', 'value': 'Arcadia - 91006'},\n",
        "                            {'label': 'Arcadia - 91007', 'value': 'Arcadia - 91007'},\n",
        "                            {'label': 'El Monte - 91731', 'value': 'El Monte - 91731'},\n",
        "                            {'label': 'El Monte - 91732', 'value': 'El Monte - 91732'},\n",
        "                            {'label': 'El Monte - 91733', 'value': 'El Monte - 91733'},\n",
        "                            {'label': 'Rowland Heights - 91748', 'value': 'Rowland Heights - 91748'},\n",
        "                            {'label': 'Walnut - 91789', 'value': 'Walnut - 91789'},\n",
        "                        ],\n",
        "                        value='Walnut - 91789',\n",
        "                        style = {\"width\": \"50%\", 'padding': '5px 0px 5px 10px', 'display': 'inline-block'}\n",
        "                    )\n",
        "                ]),\n",
        "                dbc.Row([\n",
        "                    dbc.Col(html.Label(children='Beds:'), width={\"order\": \"first\"}, style = {'padding': '15px 0px 0px 0px'}),\n",
        "                    dcc.Dropdown(\n",
        "                        id='beds',\n",
        "                        options=[\n",
        "                            {'label': '1', 'value': 1},\n",
        "                            {'label': '2', 'value': 2},\n",
        "                            {'label': '3', 'value': 3},\n",
        "                            {'label': '4', 'value': 4},\n",
        "                            {'label': '5', 'value': 5},\n",
        "                            {'label': '6', 'value': 6},\n",
        "                        ],\n",
        "                        style = {\"width\": \"30%\", 'padding': '5px 0px 5px 10px' , 'display': 'inline-block'},\n",
        "                        value=4\n",
        "                    )\n",
        "                ]),\n",
        "                dbc.Row([\n",
        "                    dbc.Col(html.Label(children='Baths:'), width={\"order\": \"first\"}, style = {'padding': '15px 0px 0px 0px'}),\n",
        "                    dcc.Dropdown(\n",
        "                        id='baths',\n",
        "                        options=[\n",
        "                            {'label': '1', 'value': 1},\n",
        "                            {'label': '1.5', 'value': 1.5},\n",
        "                            {'label': '2', 'value': 2},\n",
        "                            {'label': '2.5', 'value': 2.5},\n",
        "                            {'label': '3', 'value': 3},\n",
        "                            {'label': '3.5', 'value': 3.5},\n",
        "                            {'label': '4', 'value': 4},\n",
        "                            {'label': '5', 'value': 5},\n",
        "                            {'label': '6', 'value': 6},\n",
        "                        ],\n",
        "                        style = {\"width\": \"30%\", 'padding': '5px 0px 5px 10px', 'display': 'inline-block' },\n",
        "                        value=2.5\n",
        "                    )\n",
        "                ]),\n",
        "                dbc.Row([\n",
        "                    dbc.Col(html.Label(children='Property Type:'), width={\"order\": \"first\"}, style = {'padding': '5px 0px 5px 0px'}),\n",
        "                    dbc.RadioItems(\n",
        "                        id='prop_type',\n",
        "                        options=[\n",
        "                            {'label': 'Single Family Residential', 'value': 'Single Family Residential'},\n",
        "                            {'label': 'Condo/Co-op', 'value': 'Condo/Co-op'},\n",
        "                            {'label': 'Townhouse', 'value': 'Townhouse'}\n",
        "                            ],\n",
        "                        style = {\"width\": \"60%\", 'padding': '5px 0px 10px 10px', 'display': 'inline-block' },\n",
        "                        value = 'Single Family Residential',\n",
        "                        labelStyle={'display': 'inline-block'},\n",
        "                        inline=True # arrange list horizontally\n",
        "                    )\n",
        "                ]),\n",
        "                dbc.Row([\n",
        "                    dbc.Col(html.Label(children='Square Feet:'), width={\"order\": \"first\"}, style = {'padding': '15px 0px 0px 0px'}),\n",
        "                    dbc.Col(dbc.Input(id='sf', type='text', value = '1980', style = {'padding': '5px 0px 5px 10px', 'width': '200px'}))\n",
        "                ]),\n",
        "                dbc.Row([\n",
        "                    dbc.Col(html.Label(children='Lot Size:'), width={\"order\": \"first\"}, style = {'padding': '15px 0px 0px 0px'}),\n",
        "                    dbc.Col(dbc.Input(id='ls', type='text', value = '6000', style = {'padding': '5px 0px 5px 10px', 'width': '200px'}))\n",
        "                ]),\n",
        "                dbc.Row([\n",
        "                    dbc.Col(html.Label(children='Year:'), width={\"order\": \"first\"}, style = {'padding': '15px 0px 0px 0px'}),\n",
        "                    dbc.Col(dbc.Input(id='year', type='text', value = '1977', style = {'padding': '5px 0px 5px 10px', 'width': '200px'}))\n",
        "                ]),\n",
        "                dbc.Row([\n",
        "                    dbc.Col(html.Label(children='HOA:'), width={\"order\": \"first\"}, style = {'padding': '15px 0px 0px 0px'}),\n",
        "                    dbc.Col(dbc.Input(id='hoa', type='text', value = '0', style = {'padding': '5px 0px 5px 10px', 'width': '200px'}))\n",
        "                ]),\n",
        "                html.Br(),\n",
        "                dbc.Row([dbc.Button('Submit', id='submit-val', n_clicks=0, color=\"primary\")]),\n",
        "                html.Br(),\n",
        "                dbc.Row([html.Div(id='container-button-basic')])\n",
        "            ], style = {'padding': '0px 0px 0px 150px'})\n",
        "\n",
        "prediction_col2 =  dbc.Col([ html.Br(), html.Div(dcc.Graph(id='hist-graph'))], style = {'padding': '0px 0px 0px 0px'})\n",
        "\n",
        "app.layout = html.Div([\n",
        "    html.H1(children='Housing Price Index Dashboard'),\n",
        "    html.Div(children='''Housing price is constructed using sales data from Redfin.'''),\n",
        "    html.Div(children=f'''Last Updated: {datetime.now()}'''),\n",
        "    html.Br(),\n",
        "\n",
        "    dcc.Tabs(style = {'width': '100%'}, children=[\n",
        "        dcc.Tab(label='Housing Price Prediction', children = [\n",
        "            dbc.Row([prediction_col1, prediction_col2])\n",
        "        ])\n",
        "    ]) # end of all tabs\n",
        "\n",
        "], style = {'padding': '20px'}) # the end of app.layout\n",
        "\n",
        "# create call back for prediction\n",
        "@app.callback(\n",
        "    Output('container-button-basic', 'children'),\n",
        "    Output('hist-graph', 'figure'),\n",
        "    Input('submit-val', 'n_clicks'),\n",
        "    State('city_zip', 'value'),\n",
        "    State('beds', 'value'),\n",
        "    State('baths', 'value'),\n",
        "    State('prop_type', 'value'),\n",
        "    State('sf', 'value'),\n",
        "    State('ls', 'value'),\n",
        "    State('year', 'value'),\n",
        "    State('hoa', 'value'))\n",
        "\n",
        "def update_output(n_clicks, city_zip, beds, baths, prop_type, sf, ls, year, hoa):\n",
        "    if int(hoa) == 0:\n",
        "        hoa = 0.01\n",
        "    else:\n",
        "        hoa = float(hoa)\n",
        "\n",
        "    city_string = city_zip.split(' - ')[0]\n",
        "    zip_string = city_zip.split(' - ')[1]\n",
        "\n",
        "\n",
        "    query = pd.DataFrame({'beds': beds,\n",
        "                        'baths':baths,\n",
        "                        'square_feet':float(sf),\n",
        "                        'lot_size':float(ls),\n",
        "                        'age':2021-int(year),\n",
        "                        'hoa':hoa,\n",
        "                        'mort_rate':2.92,\n",
        "                        'hpi': 334,\n",
        "                        'property_type_Condo/Co-op':0,\n",
        "                        'property_type_Single Family Residential':0,\n",
        "                        'property_type_Townhouse':0,\n",
        "                        'zip_91006':0,\n",
        "                        'zip_91007':0,\n",
        "                        'zip_91731':0,\n",
        "                        'zip_91732':0,\n",
        "                        'zip_91733':0,\n",
        "                        'zip_91748':0,\n",
        "                        'zip_91789':0,\n",
        "                        'mth_1':0,\n",
        "                        'mth_2':0,\n",
        "                        'mth_3':0,\n",
        "                        'mth_4':0,\n",
        "                        'mth_5':1,\n",
        "                        'mth_6':0,\n",
        "                        'mth_7':0,\n",
        "                        'mth_8':0,\n",
        "                        'mth_9':0,\n",
        "                        'mth_10':0,\n",
        "                        'mth_11':0,\n",
        "                        'mth_12':0,\n",
        "                        'city_Arcadia':0,\n",
        "                        'city_El Monte':0,\n",
        "                        'city_Rowland Heights':0,\n",
        "                        'city_Walnut':0\n",
        "                        }, index = [0])\n",
        "\n",
        "    query[f'city_{city_string}'] = 1\n",
        "    query[f'zip_{zip_string}'] = 1\n",
        "    query[f'property_type_{prop_type}'] = 1\n",
        "\n",
        "    prediction = int(xgb_model_deploy.predict(query)[0].round(-3))\n",
        "    output = int(prediction)\n",
        "\n",
        "    pos = prediction\n",
        "    scale = xgb_model_deploy.st_dev\n",
        "    size = 200\n",
        "    np.random.seed(123)\n",
        "    values = np.random.normal(pos, scale, size)\n",
        "    his_df = pd.DataFrame(values, columns = ['Price'])\n",
        "\n",
        "    p_25 = int((pos-0.67*scale).round(-3))\n",
        "    p_50 = pos\n",
        "    p_75 = int((pos+0.67*scale).round(-3))\n",
        "    dollar_per_sq_ft = int(p_50/query['square_feet'])\n",
        "\n",
        "    fig = px.histogram(his_df, x = 'Price', histnorm ='percent', nbins = 20, width = 00, height  = 600)\n",
        "    fig.add_vline(x=p_25, line_width=3, line_dash=\"dash\", line_color=\"green\", annotation_text=f\"25th Percentile: ${p_25:,}\", annotation_position=\"top left\")\n",
        "    fig.add_vline(x=p_75, line_width=3, line_dash=\"dash\", line_color=\"green\", annotation_text=f\"75th Percentile: ${p_75:,}\", annotation_position=\"top right\")\n",
        "    fig.add_vline(x=p_50, line_width=3, line_dash=\"dash\", line_color=\"green\", annotation_text=f\"50th Percentile (Median Price): ${p_50:,}\", annotation_position=\"top\")\n",
        "    fig.add_vrect(x0=p_25, x1=p_75, line_width=0, fillcolor=\"red\", opacity=0.2)\n",
        "\n",
        "    return f'The estimated median price is ${p_50:,} (${dollar_per_sq_ft} psf).' , fig\n",
        "\n",
        "\n",
        "print('Current time: Run App : ' + str(datetime.now()))\n",
        "# run the app\n",
        "if __name__ == '__main__':\n",
        "    # app.run_server(debug=True)\n",
        "    app.run_server(host=\"127.0.0.1\", port=8050)"
      ],
      "metadata": {
        "id": "HDa9_xJ7N41C",
        "colab": {
          "base_uri": "https://localhost:8080/",
          "height": 689
        },
        "outputId": "fc1f2cf4-ef16-4a82-ea8b-6f2c486ed585"
      },
      "execution_count": null,
      "outputs": [
        {
          "output_type": "stream",
          "name": "stdout",
          "text": [
            "Current time: Run App : 2023-12-08 03:30:51.483108\n"
          ]
        },
        {
          "output_type": "display_data",
          "data": {
            "text/plain": [
              "<IPython.core.display.Javascript object>"
            ],
            "application/javascript": [
              "(async (port, path, width, height, cache, element) => {\n",
              "    if (!google.colab.kernel.accessAllowed && !cache) {\n",
              "      return;\n",
              "    }\n",
              "    element.appendChild(document.createTextNode(''));\n",
              "    const url = await google.colab.kernel.proxyPort(port, {cache});\n",
              "    const iframe = document.createElement('iframe');\n",
              "    iframe.src = new URL(path, url).toString();\n",
              "    iframe.height = height;\n",
              "    iframe.width = width;\n",
              "    iframe.style.border = 0;\n",
              "    iframe.allow = [\n",
              "        'accelerometer',\n",
              "        'autoplay',\n",
              "        'camera',\n",
              "        'clipboard-read',\n",
              "        'clipboard-write',\n",
              "        'gyroscope',\n",
              "        'magnetometer',\n",
              "        'microphone',\n",
              "        'serial',\n",
              "        'usb',\n",
              "        'xr-spatial-tracking',\n",
              "    ].join('; ');\n",
              "    element.appendChild(iframe);\n",
              "  })(8050, \"/\", \"100%\", 650, false, window.element)"
            ]
          },
          "metadata": {}
        }
      ]
    },
    {
      "cell_type": "code",
      "source": [
        "# Open app\n",
        "js_code = f\"window.open('{eval_js('google.colab.kernel.proxyPort(8050)')}');\"\n",
        "display(IPython.display.Javascript(js_code))"
      ],
      "metadata": {
        "colab": {
          "base_uri": "https://localhost:8080/",
          "height": 17
        },
        "id": "4IKNV-tUckKD",
        "outputId": "f1df0626-4cc2-4e8f-b917-179d3a17a06c"
      },
      "execution_count": null,
      "outputs": [
        {
          "output_type": "display_data",
          "data": {
            "text/plain": [
              "<IPython.core.display.Javascript object>"
            ],
            "application/javascript": [
              "window.open('https://ionuc4ck4g-496ff2e9c6d22116-8050-colab.googleusercontent.com/');"
            ]
          },
          "metadata": {}
        }
      ]
    }
  ],
  "metadata": {
    "colab": {
      "provenance": []
    },
    "kernelspec": {
      "display_name": "Python 3",
      "name": "python3"
    },
    "language_info": {
      "name": "python"
    }
  },
  "nbformat": 4,
  "nbformat_minor": 0
}